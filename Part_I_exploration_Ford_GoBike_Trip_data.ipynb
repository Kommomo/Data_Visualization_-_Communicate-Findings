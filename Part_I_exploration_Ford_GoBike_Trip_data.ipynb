{
 "cells": [
  {
   "cell_type": "markdown",
   "metadata": {},
   "source": [
    "# Part I - (Ford Go Bike Trip data Exploration)\n",
    "## by (Kommomo Usang)\n",
    "\n",
    "## Introduction\n",
    "\t\n",
    "This project will be analyzing and visualizing the data associated with approximately 184,000 individual rides made in a bike-sharing system covering the greater San Francisco Bay area in the month of February 2019. My focus is to ascertain what factors determine the duration of a trip. To tackle this, i will predict and analyse some variables that could possibly influence duration trip. Further questions will be asked and answered in the course of this project. \n",
    "\n",
    "\n",
    "## Preliminary Wrangling\n",
    "\n",
    "This section performs some preliminary wrangling on my dataset to make it more suitable for use."
   ]
  },
  {
   "cell_type": "code",
   "execution_count": 2,
   "metadata": {},
   "outputs": [],
   "source": [
    "# import all packages and set plots to be embedded inline\n",
    "import numpy as np\n",
    "import pandas as pd\n",
    "import matplotlib.pyplot as plt\n",
    "import seaborn as sb\n",
    "\n",
    "\n",
    "%matplotlib inline\n",
    "\n",
    "# suppress warnings from final output\n",
    "import warnings\n",
    "warnings.simplefilter(\"ignore\")"
   ]
  },
  {
   "cell_type": "markdown",
   "metadata": {},
   "source": [
    "### Data Gathering"
   ]
  },
  {
   "cell_type": "code",
   "execution_count": 4,
   "metadata": {},
   "outputs": [
    {
     "data": {
      "text/html": [
       "<div>\n",
       "<style scoped>\n",
       "    .dataframe tbody tr th:only-of-type {\n",
       "        vertical-align: middle;\n",
       "    }\n",
       "\n",
       "    .dataframe tbody tr th {\n",
       "        vertical-align: top;\n",
       "    }\n",
       "\n",
       "    .dataframe thead th {\n",
       "        text-align: right;\n",
       "    }\n",
       "</style>\n",
       "<table border=\"1\" class=\"dataframe\">\n",
       "  <thead>\n",
       "    <tr style=\"text-align: right;\">\n",
       "      <th></th>\n",
       "      <th>duration_sec</th>\n",
       "      <th>start_time</th>\n",
       "      <th>end_time</th>\n",
       "      <th>start_station_id</th>\n",
       "      <th>start_station_name</th>\n",
       "      <th>start_station_latitude</th>\n",
       "      <th>start_station_longitude</th>\n",
       "      <th>end_station_id</th>\n",
       "      <th>end_station_name</th>\n",
       "      <th>end_station_latitude</th>\n",
       "      <th>end_station_longitude</th>\n",
       "      <th>bike_id</th>\n",
       "      <th>user_type</th>\n",
       "      <th>member_birth_year</th>\n",
       "      <th>member_gender</th>\n",
       "      <th>bike_share_for_all_trip</th>\n",
       "    </tr>\n",
       "  </thead>\n",
       "  <tbody>\n",
       "    <tr>\n",
       "      <th>0</th>\n",
       "      <td>52185</td>\n",
       "      <td>2019-02-28 17:32:10.1450</td>\n",
       "      <td>2019-03-01 08:01:55.9750</td>\n",
       "      <td>21.0</td>\n",
       "      <td>Montgomery St BART Station (Market St at 2nd St)</td>\n",
       "      <td>37.789625</td>\n",
       "      <td>-122.400811</td>\n",
       "      <td>13.0</td>\n",
       "      <td>Commercial St at Montgomery St</td>\n",
       "      <td>37.794231</td>\n",
       "      <td>-122.402923</td>\n",
       "      <td>4902</td>\n",
       "      <td>Customer</td>\n",
       "      <td>1984.0</td>\n",
       "      <td>Male</td>\n",
       "      <td>No</td>\n",
       "    </tr>\n",
       "    <tr>\n",
       "      <th>1</th>\n",
       "      <td>42521</td>\n",
       "      <td>2019-02-28 18:53:21.7890</td>\n",
       "      <td>2019-03-01 06:42:03.0560</td>\n",
       "      <td>23.0</td>\n",
       "      <td>The Embarcadero at Steuart St</td>\n",
       "      <td>37.791464</td>\n",
       "      <td>-122.391034</td>\n",
       "      <td>81.0</td>\n",
       "      <td>Berry St at 4th St</td>\n",
       "      <td>37.775880</td>\n",
       "      <td>-122.393170</td>\n",
       "      <td>2535</td>\n",
       "      <td>Customer</td>\n",
       "      <td>NaN</td>\n",
       "      <td>NaN</td>\n",
       "      <td>No</td>\n",
       "    </tr>\n",
       "    <tr>\n",
       "      <th>2</th>\n",
       "      <td>61854</td>\n",
       "      <td>2019-02-28 12:13:13.2180</td>\n",
       "      <td>2019-03-01 05:24:08.1460</td>\n",
       "      <td>86.0</td>\n",
       "      <td>Market St at Dolores St</td>\n",
       "      <td>37.769305</td>\n",
       "      <td>-122.426826</td>\n",
       "      <td>3.0</td>\n",
       "      <td>Powell St BART Station (Market St at 4th St)</td>\n",
       "      <td>37.786375</td>\n",
       "      <td>-122.404904</td>\n",
       "      <td>5905</td>\n",
       "      <td>Customer</td>\n",
       "      <td>1972.0</td>\n",
       "      <td>Male</td>\n",
       "      <td>No</td>\n",
       "    </tr>\n",
       "    <tr>\n",
       "      <th>3</th>\n",
       "      <td>36490</td>\n",
       "      <td>2019-02-28 17:54:26.0100</td>\n",
       "      <td>2019-03-01 04:02:36.8420</td>\n",
       "      <td>375.0</td>\n",
       "      <td>Grove St at Masonic Ave</td>\n",
       "      <td>37.774836</td>\n",
       "      <td>-122.446546</td>\n",
       "      <td>70.0</td>\n",
       "      <td>Central Ave at Fell St</td>\n",
       "      <td>37.773311</td>\n",
       "      <td>-122.444293</td>\n",
       "      <td>6638</td>\n",
       "      <td>Subscriber</td>\n",
       "      <td>1989.0</td>\n",
       "      <td>Other</td>\n",
       "      <td>No</td>\n",
       "    </tr>\n",
       "    <tr>\n",
       "      <th>4</th>\n",
       "      <td>1585</td>\n",
       "      <td>2019-02-28 23:54:18.5490</td>\n",
       "      <td>2019-03-01 00:20:44.0740</td>\n",
       "      <td>7.0</td>\n",
       "      <td>Frank H Ogawa Plaza</td>\n",
       "      <td>37.804562</td>\n",
       "      <td>-122.271738</td>\n",
       "      <td>222.0</td>\n",
       "      <td>10th Ave at E 15th St</td>\n",
       "      <td>37.792714</td>\n",
       "      <td>-122.248780</td>\n",
       "      <td>4898</td>\n",
       "      <td>Subscriber</td>\n",
       "      <td>1974.0</td>\n",
       "      <td>Male</td>\n",
       "      <td>Yes</td>\n",
       "    </tr>\n",
       "    <tr>\n",
       "      <th>...</th>\n",
       "      <td>...</td>\n",
       "      <td>...</td>\n",
       "      <td>...</td>\n",
       "      <td>...</td>\n",
       "      <td>...</td>\n",
       "      <td>...</td>\n",
       "      <td>...</td>\n",
       "      <td>...</td>\n",
       "      <td>...</td>\n",
       "      <td>...</td>\n",
       "      <td>...</td>\n",
       "      <td>...</td>\n",
       "      <td>...</td>\n",
       "      <td>...</td>\n",
       "      <td>...</td>\n",
       "      <td>...</td>\n",
       "    </tr>\n",
       "    <tr>\n",
       "      <th>183407</th>\n",
       "      <td>480</td>\n",
       "      <td>2019-02-01 00:04:49.7240</td>\n",
       "      <td>2019-02-01 00:12:50.0340</td>\n",
       "      <td>27.0</td>\n",
       "      <td>Beale St at Harrison St</td>\n",
       "      <td>37.788059</td>\n",
       "      <td>-122.391865</td>\n",
       "      <td>324.0</td>\n",
       "      <td>Union Square (Powell St at Post St)</td>\n",
       "      <td>37.788300</td>\n",
       "      <td>-122.408531</td>\n",
       "      <td>4832</td>\n",
       "      <td>Subscriber</td>\n",
       "      <td>1996.0</td>\n",
       "      <td>Male</td>\n",
       "      <td>No</td>\n",
       "    </tr>\n",
       "    <tr>\n",
       "      <th>183408</th>\n",
       "      <td>313</td>\n",
       "      <td>2019-02-01 00:05:34.7440</td>\n",
       "      <td>2019-02-01 00:10:48.5020</td>\n",
       "      <td>21.0</td>\n",
       "      <td>Montgomery St BART Station (Market St at 2nd St)</td>\n",
       "      <td>37.789625</td>\n",
       "      <td>-122.400811</td>\n",
       "      <td>66.0</td>\n",
       "      <td>3rd St at Townsend St</td>\n",
       "      <td>37.778742</td>\n",
       "      <td>-122.392741</td>\n",
       "      <td>4960</td>\n",
       "      <td>Subscriber</td>\n",
       "      <td>1984.0</td>\n",
       "      <td>Male</td>\n",
       "      <td>No</td>\n",
       "    </tr>\n",
       "    <tr>\n",
       "      <th>183409</th>\n",
       "      <td>141</td>\n",
       "      <td>2019-02-01 00:06:05.5490</td>\n",
       "      <td>2019-02-01 00:08:27.2200</td>\n",
       "      <td>278.0</td>\n",
       "      <td>The Alameda at Bush St</td>\n",
       "      <td>37.331932</td>\n",
       "      <td>-121.904888</td>\n",
       "      <td>277.0</td>\n",
       "      <td>Morrison Ave at Julian St</td>\n",
       "      <td>37.333658</td>\n",
       "      <td>-121.908586</td>\n",
       "      <td>3824</td>\n",
       "      <td>Subscriber</td>\n",
       "      <td>1990.0</td>\n",
       "      <td>Male</td>\n",
       "      <td>Yes</td>\n",
       "    </tr>\n",
       "    <tr>\n",
       "      <th>183410</th>\n",
       "      <td>139</td>\n",
       "      <td>2019-02-01 00:05:34.3600</td>\n",
       "      <td>2019-02-01 00:07:54.2870</td>\n",
       "      <td>220.0</td>\n",
       "      <td>San Pablo Ave at MLK Jr Way</td>\n",
       "      <td>37.811351</td>\n",
       "      <td>-122.273422</td>\n",
       "      <td>216.0</td>\n",
       "      <td>San Pablo Ave at 27th St</td>\n",
       "      <td>37.817827</td>\n",
       "      <td>-122.275698</td>\n",
       "      <td>5095</td>\n",
       "      <td>Subscriber</td>\n",
       "      <td>1988.0</td>\n",
       "      <td>Male</td>\n",
       "      <td>No</td>\n",
       "    </tr>\n",
       "    <tr>\n",
       "      <th>183411</th>\n",
       "      <td>271</td>\n",
       "      <td>2019-02-01 00:00:20.6360</td>\n",
       "      <td>2019-02-01 00:04:52.0580</td>\n",
       "      <td>24.0</td>\n",
       "      <td>Spear St at Folsom St</td>\n",
       "      <td>37.789677</td>\n",
       "      <td>-122.390428</td>\n",
       "      <td>37.0</td>\n",
       "      <td>2nd St at Folsom St</td>\n",
       "      <td>37.785000</td>\n",
       "      <td>-122.395936</td>\n",
       "      <td>1057</td>\n",
       "      <td>Subscriber</td>\n",
       "      <td>1989.0</td>\n",
       "      <td>Male</td>\n",
       "      <td>No</td>\n",
       "    </tr>\n",
       "  </tbody>\n",
       "</table>\n",
       "<p>183412 rows × 16 columns</p>\n",
       "</div>"
      ],
      "text/plain": [
       "        duration_sec                start_time                  end_time  \\\n",
       "0              52185  2019-02-28 17:32:10.1450  2019-03-01 08:01:55.9750   \n",
       "1              42521  2019-02-28 18:53:21.7890  2019-03-01 06:42:03.0560   \n",
       "2              61854  2019-02-28 12:13:13.2180  2019-03-01 05:24:08.1460   \n",
       "3              36490  2019-02-28 17:54:26.0100  2019-03-01 04:02:36.8420   \n",
       "4               1585  2019-02-28 23:54:18.5490  2019-03-01 00:20:44.0740   \n",
       "...              ...                       ...                       ...   \n",
       "183407           480  2019-02-01 00:04:49.7240  2019-02-01 00:12:50.0340   \n",
       "183408           313  2019-02-01 00:05:34.7440  2019-02-01 00:10:48.5020   \n",
       "183409           141  2019-02-01 00:06:05.5490  2019-02-01 00:08:27.2200   \n",
       "183410           139  2019-02-01 00:05:34.3600  2019-02-01 00:07:54.2870   \n",
       "183411           271  2019-02-01 00:00:20.6360  2019-02-01 00:04:52.0580   \n",
       "\n",
       "        start_station_id                                start_station_name  \\\n",
       "0                   21.0  Montgomery St BART Station (Market St at 2nd St)   \n",
       "1                   23.0                     The Embarcadero at Steuart St   \n",
       "2                   86.0                           Market St at Dolores St   \n",
       "3                  375.0                           Grove St at Masonic Ave   \n",
       "4                    7.0                               Frank H Ogawa Plaza   \n",
       "...                  ...                                               ...   \n",
       "183407              27.0                           Beale St at Harrison St   \n",
       "183408              21.0  Montgomery St BART Station (Market St at 2nd St)   \n",
       "183409             278.0                            The Alameda at Bush St   \n",
       "183410             220.0                       San Pablo Ave at MLK Jr Way   \n",
       "183411              24.0                             Spear St at Folsom St   \n",
       "\n",
       "        start_station_latitude  start_station_longitude  end_station_id  \\\n",
       "0                    37.789625              -122.400811            13.0   \n",
       "1                    37.791464              -122.391034            81.0   \n",
       "2                    37.769305              -122.426826             3.0   \n",
       "3                    37.774836              -122.446546            70.0   \n",
       "4                    37.804562              -122.271738           222.0   \n",
       "...                        ...                      ...             ...   \n",
       "183407               37.788059              -122.391865           324.0   \n",
       "183408               37.789625              -122.400811            66.0   \n",
       "183409               37.331932              -121.904888           277.0   \n",
       "183410               37.811351              -122.273422           216.0   \n",
       "183411               37.789677              -122.390428            37.0   \n",
       "\n",
       "                                    end_station_name  end_station_latitude  \\\n",
       "0                     Commercial St at Montgomery St             37.794231   \n",
       "1                                 Berry St at 4th St             37.775880   \n",
       "2       Powell St BART Station (Market St at 4th St)             37.786375   \n",
       "3                             Central Ave at Fell St             37.773311   \n",
       "4                              10th Ave at E 15th St             37.792714   \n",
       "...                                              ...                   ...   \n",
       "183407           Union Square (Powell St at Post St)             37.788300   \n",
       "183408                         3rd St at Townsend St             37.778742   \n",
       "183409                     Morrison Ave at Julian St             37.333658   \n",
       "183410                      San Pablo Ave at 27th St             37.817827   \n",
       "183411                           2nd St at Folsom St             37.785000   \n",
       "\n",
       "        end_station_longitude  bike_id   user_type  member_birth_year  \\\n",
       "0                 -122.402923     4902    Customer             1984.0   \n",
       "1                 -122.393170     2535    Customer                NaN   \n",
       "2                 -122.404904     5905    Customer             1972.0   \n",
       "3                 -122.444293     6638  Subscriber             1989.0   \n",
       "4                 -122.248780     4898  Subscriber             1974.0   \n",
       "...                       ...      ...         ...                ...   \n",
       "183407            -122.408531     4832  Subscriber             1996.0   \n",
       "183408            -122.392741     4960  Subscriber             1984.0   \n",
       "183409            -121.908586     3824  Subscriber             1990.0   \n",
       "183410            -122.275698     5095  Subscriber             1988.0   \n",
       "183411            -122.395936     1057  Subscriber             1989.0   \n",
       "\n",
       "       member_gender bike_share_for_all_trip  \n",
       "0               Male                      No  \n",
       "1                NaN                      No  \n",
       "2               Male                      No  \n",
       "3              Other                      No  \n",
       "4               Male                     Yes  \n",
       "...              ...                     ...  \n",
       "183407          Male                      No  \n",
       "183408          Male                      No  \n",
       "183409          Male                     Yes  \n",
       "183410          Male                      No  \n",
       "183411          Male                      No  \n",
       "\n",
       "[183412 rows x 16 columns]"
      ]
     },
     "execution_count": 4,
     "metadata": {},
     "output_type": "execute_result"
    }
   ],
   "source": [
    "# load in the dataset into a pandas dataframe, print statistics\n",
    "biketrip_df = pd.read_csv('201902-fordgobike-tripdata.csv')\n",
    "biketrip_df"
   ]
  },
  {
   "cell_type": "markdown",
   "metadata": {},
   "source": [
    "### Data Assessing"
   ]
  },
  {
   "cell_type": "code",
   "execution_count": 5,
   "metadata": {},
   "outputs": [
    {
     "name": "stdout",
     "output_type": "stream",
     "text": [
      "<class 'pandas.core.frame.DataFrame'>\n",
      "RangeIndex: 183412 entries, 0 to 183411\n",
      "Data columns (total 16 columns):\n",
      " #   Column                   Non-Null Count   Dtype  \n",
      "---  ------                   --------------   -----  \n",
      " 0   duration_sec             183412 non-null  int64  \n",
      " 1   start_time               183412 non-null  object \n",
      " 2   end_time                 183412 non-null  object \n",
      " 3   start_station_id         183215 non-null  float64\n",
      " 4   start_station_name       183215 non-null  object \n",
      " 5   start_station_latitude   183412 non-null  float64\n",
      " 6   start_station_longitude  183412 non-null  float64\n",
      " 7   end_station_id           183215 non-null  float64\n",
      " 8   end_station_name         183215 non-null  object \n",
      " 9   end_station_latitude     183412 non-null  float64\n",
      " 10  end_station_longitude    183412 non-null  float64\n",
      " 11  bike_id                  183412 non-null  int64  \n",
      " 12  user_type                183412 non-null  object \n",
      " 13  member_birth_year        175147 non-null  float64\n",
      " 14  member_gender            175147 non-null  object \n",
      " 15  bike_share_for_all_trip  183412 non-null  object \n",
      "dtypes: float64(7), int64(2), object(7)\n",
      "memory usage: 22.4+ MB\n"
     ]
    }
   ],
   "source": [
    "biketrip_df.info()"
   ]
  },
  {
   "cell_type": "code",
   "execution_count": 6,
   "metadata": {},
   "outputs": [
    {
     "data": {
      "text/html": [
       "<div>\n",
       "<style scoped>\n",
       "    .dataframe tbody tr th:only-of-type {\n",
       "        vertical-align: middle;\n",
       "    }\n",
       "\n",
       "    .dataframe tbody tr th {\n",
       "        vertical-align: top;\n",
       "    }\n",
       "\n",
       "    .dataframe thead th {\n",
       "        text-align: right;\n",
       "    }\n",
       "</style>\n",
       "<table border=\"1\" class=\"dataframe\">\n",
       "  <thead>\n",
       "    <tr style=\"text-align: right;\">\n",
       "      <th></th>\n",
       "      <th>duration_sec</th>\n",
       "      <th>start_station_id</th>\n",
       "      <th>start_station_latitude</th>\n",
       "      <th>start_station_longitude</th>\n",
       "      <th>end_station_id</th>\n",
       "      <th>end_station_latitude</th>\n",
       "      <th>end_station_longitude</th>\n",
       "      <th>bike_id</th>\n",
       "      <th>member_birth_year</th>\n",
       "    </tr>\n",
       "  </thead>\n",
       "  <tbody>\n",
       "    <tr>\n",
       "      <th>count</th>\n",
       "      <td>183412.000000</td>\n",
       "      <td>183215.000000</td>\n",
       "      <td>183412.000000</td>\n",
       "      <td>183412.000000</td>\n",
       "      <td>183215.000000</td>\n",
       "      <td>183412.000000</td>\n",
       "      <td>183412.000000</td>\n",
       "      <td>183412.000000</td>\n",
       "      <td>175147.000000</td>\n",
       "    </tr>\n",
       "    <tr>\n",
       "      <th>mean</th>\n",
       "      <td>726.078435</td>\n",
       "      <td>138.590427</td>\n",
       "      <td>37.771223</td>\n",
       "      <td>-122.352664</td>\n",
       "      <td>136.249123</td>\n",
       "      <td>37.771427</td>\n",
       "      <td>-122.352250</td>\n",
       "      <td>4472.906375</td>\n",
       "      <td>1984.806437</td>\n",
       "    </tr>\n",
       "    <tr>\n",
       "      <th>std</th>\n",
       "      <td>1794.389780</td>\n",
       "      <td>111.778864</td>\n",
       "      <td>0.099581</td>\n",
       "      <td>0.117097</td>\n",
       "      <td>111.515131</td>\n",
       "      <td>0.099490</td>\n",
       "      <td>0.116673</td>\n",
       "      <td>1664.383394</td>\n",
       "      <td>10.116689</td>\n",
       "    </tr>\n",
       "    <tr>\n",
       "      <th>min</th>\n",
       "      <td>61.000000</td>\n",
       "      <td>3.000000</td>\n",
       "      <td>37.317298</td>\n",
       "      <td>-122.453704</td>\n",
       "      <td>3.000000</td>\n",
       "      <td>37.317298</td>\n",
       "      <td>-122.453704</td>\n",
       "      <td>11.000000</td>\n",
       "      <td>1878.000000</td>\n",
       "    </tr>\n",
       "    <tr>\n",
       "      <th>25%</th>\n",
       "      <td>325.000000</td>\n",
       "      <td>47.000000</td>\n",
       "      <td>37.770083</td>\n",
       "      <td>-122.412408</td>\n",
       "      <td>44.000000</td>\n",
       "      <td>37.770407</td>\n",
       "      <td>-122.411726</td>\n",
       "      <td>3777.000000</td>\n",
       "      <td>1980.000000</td>\n",
       "    </tr>\n",
       "    <tr>\n",
       "      <th>50%</th>\n",
       "      <td>514.000000</td>\n",
       "      <td>104.000000</td>\n",
       "      <td>37.780760</td>\n",
       "      <td>-122.398285</td>\n",
       "      <td>100.000000</td>\n",
       "      <td>37.781010</td>\n",
       "      <td>-122.398279</td>\n",
       "      <td>4958.000000</td>\n",
       "      <td>1987.000000</td>\n",
       "    </tr>\n",
       "    <tr>\n",
       "      <th>75%</th>\n",
       "      <td>796.000000</td>\n",
       "      <td>239.000000</td>\n",
       "      <td>37.797280</td>\n",
       "      <td>-122.286533</td>\n",
       "      <td>235.000000</td>\n",
       "      <td>37.797320</td>\n",
       "      <td>-122.288045</td>\n",
       "      <td>5502.000000</td>\n",
       "      <td>1992.000000</td>\n",
       "    </tr>\n",
       "    <tr>\n",
       "      <th>max</th>\n",
       "      <td>85444.000000</td>\n",
       "      <td>398.000000</td>\n",
       "      <td>37.880222</td>\n",
       "      <td>-121.874119</td>\n",
       "      <td>398.000000</td>\n",
       "      <td>37.880222</td>\n",
       "      <td>-121.874119</td>\n",
       "      <td>6645.000000</td>\n",
       "      <td>2001.000000</td>\n",
       "    </tr>\n",
       "  </tbody>\n",
       "</table>\n",
       "</div>"
      ],
      "text/plain": [
       "        duration_sec  start_station_id  start_station_latitude  \\\n",
       "count  183412.000000     183215.000000           183412.000000   \n",
       "mean      726.078435        138.590427               37.771223   \n",
       "std      1794.389780        111.778864                0.099581   \n",
       "min        61.000000          3.000000               37.317298   \n",
       "25%       325.000000         47.000000               37.770083   \n",
       "50%       514.000000        104.000000               37.780760   \n",
       "75%       796.000000        239.000000               37.797280   \n",
       "max     85444.000000        398.000000               37.880222   \n",
       "\n",
       "       start_station_longitude  end_station_id  end_station_latitude  \\\n",
       "count            183412.000000   183215.000000         183412.000000   \n",
       "mean               -122.352664      136.249123             37.771427   \n",
       "std                   0.117097      111.515131              0.099490   \n",
       "min                -122.453704        3.000000             37.317298   \n",
       "25%                -122.412408       44.000000             37.770407   \n",
       "50%                -122.398285      100.000000             37.781010   \n",
       "75%                -122.286533      235.000000             37.797320   \n",
       "max                -121.874119      398.000000             37.880222   \n",
       "\n",
       "       end_station_longitude        bike_id  member_birth_year  \n",
       "count          183412.000000  183412.000000      175147.000000  \n",
       "mean             -122.352250    4472.906375        1984.806437  \n",
       "std                 0.116673    1664.383394          10.116689  \n",
       "min              -122.453704      11.000000        1878.000000  \n",
       "25%              -122.411726    3777.000000        1980.000000  \n",
       "50%              -122.398279    4958.000000        1987.000000  \n",
       "75%              -122.288045    5502.000000        1992.000000  \n",
       "max              -121.874119    6645.000000        2001.000000  "
      ]
     },
     "execution_count": 6,
     "metadata": {},
     "output_type": "execute_result"
    }
   ],
   "source": [
    "biketrip_df.describe()"
   ]
  },
  {
   "cell_type": "code",
   "execution_count": 8,
   "metadata": {},
   "outputs": [
    {
     "data": {
      "text/plain": [
       "duration_sec                 4752\n",
       "start_time                 183401\n",
       "end_time                   183397\n",
       "start_station_id              329\n",
       "start_station_name            329\n",
       "start_station_latitude        334\n",
       "start_station_longitude       335\n",
       "end_station_id                329\n",
       "end_station_name              329\n",
       "end_station_latitude          335\n",
       "end_station_longitude         335\n",
       "bike_id                      4646\n",
       "user_type                       2\n",
       "member_birth_year              75\n",
       "member_gender                   3\n",
       "bike_share_for_all_trip         2\n",
       "dtype: int64"
      ]
     },
     "execution_count": 8,
     "metadata": {},
     "output_type": "execute_result"
    }
   ],
   "source": [
    "biketrip_df.nunique()"
   ]
  },
  {
   "cell_type": "code",
   "execution_count": 9,
   "metadata": {},
   "outputs": [
    {
     "data": {
      "text/html": [
       "<div>\n",
       "<style scoped>\n",
       "    .dataframe tbody tr th:only-of-type {\n",
       "        vertical-align: middle;\n",
       "    }\n",
       "\n",
       "    .dataframe tbody tr th {\n",
       "        vertical-align: top;\n",
       "    }\n",
       "\n",
       "    .dataframe thead th {\n",
       "        text-align: right;\n",
       "    }\n",
       "</style>\n",
       "<table border=\"1\" class=\"dataframe\">\n",
       "  <thead>\n",
       "    <tr style=\"text-align: right;\">\n",
       "      <th></th>\n",
       "      <th>duration_sec</th>\n",
       "      <th>start_time</th>\n",
       "      <th>end_time</th>\n",
       "      <th>start_station_id</th>\n",
       "      <th>start_station_name</th>\n",
       "      <th>start_station_latitude</th>\n",
       "      <th>start_station_longitude</th>\n",
       "      <th>end_station_id</th>\n",
       "      <th>end_station_name</th>\n",
       "      <th>end_station_latitude</th>\n",
       "      <th>end_station_longitude</th>\n",
       "      <th>bike_id</th>\n",
       "      <th>user_type</th>\n",
       "      <th>member_birth_year</th>\n",
       "      <th>member_gender</th>\n",
       "      <th>bike_share_for_all_trip</th>\n",
       "    </tr>\n",
       "  </thead>\n",
       "  <tbody>\n",
       "    <tr>\n",
       "      <th>0</th>\n",
       "      <td>False</td>\n",
       "      <td>False</td>\n",
       "      <td>False</td>\n",
       "      <td>False</td>\n",
       "      <td>False</td>\n",
       "      <td>False</td>\n",
       "      <td>False</td>\n",
       "      <td>False</td>\n",
       "      <td>False</td>\n",
       "      <td>False</td>\n",
       "      <td>False</td>\n",
       "      <td>False</td>\n",
       "      <td>False</td>\n",
       "      <td>False</td>\n",
       "      <td>False</td>\n",
       "      <td>False</td>\n",
       "    </tr>\n",
       "    <tr>\n",
       "      <th>1</th>\n",
       "      <td>False</td>\n",
       "      <td>False</td>\n",
       "      <td>False</td>\n",
       "      <td>False</td>\n",
       "      <td>False</td>\n",
       "      <td>False</td>\n",
       "      <td>False</td>\n",
       "      <td>False</td>\n",
       "      <td>False</td>\n",
       "      <td>False</td>\n",
       "      <td>False</td>\n",
       "      <td>False</td>\n",
       "      <td>False</td>\n",
       "      <td>True</td>\n",
       "      <td>True</td>\n",
       "      <td>False</td>\n",
       "    </tr>\n",
       "    <tr>\n",
       "      <th>2</th>\n",
       "      <td>False</td>\n",
       "      <td>False</td>\n",
       "      <td>False</td>\n",
       "      <td>False</td>\n",
       "      <td>False</td>\n",
       "      <td>False</td>\n",
       "      <td>False</td>\n",
       "      <td>False</td>\n",
       "      <td>False</td>\n",
       "      <td>False</td>\n",
       "      <td>False</td>\n",
       "      <td>False</td>\n",
       "      <td>False</td>\n",
       "      <td>False</td>\n",
       "      <td>False</td>\n",
       "      <td>False</td>\n",
       "    </tr>\n",
       "    <tr>\n",
       "      <th>3</th>\n",
       "      <td>False</td>\n",
       "      <td>False</td>\n",
       "      <td>False</td>\n",
       "      <td>False</td>\n",
       "      <td>False</td>\n",
       "      <td>False</td>\n",
       "      <td>False</td>\n",
       "      <td>False</td>\n",
       "      <td>False</td>\n",
       "      <td>False</td>\n",
       "      <td>False</td>\n",
       "      <td>False</td>\n",
       "      <td>False</td>\n",
       "      <td>False</td>\n",
       "      <td>False</td>\n",
       "      <td>False</td>\n",
       "    </tr>\n",
       "    <tr>\n",
       "      <th>4</th>\n",
       "      <td>False</td>\n",
       "      <td>False</td>\n",
       "      <td>False</td>\n",
       "      <td>False</td>\n",
       "      <td>False</td>\n",
       "      <td>False</td>\n",
       "      <td>False</td>\n",
       "      <td>False</td>\n",
       "      <td>False</td>\n",
       "      <td>False</td>\n",
       "      <td>False</td>\n",
       "      <td>False</td>\n",
       "      <td>False</td>\n",
       "      <td>False</td>\n",
       "      <td>False</td>\n",
       "      <td>False</td>\n",
       "    </tr>\n",
       "    <tr>\n",
       "      <th>...</th>\n",
       "      <td>...</td>\n",
       "      <td>...</td>\n",
       "      <td>...</td>\n",
       "      <td>...</td>\n",
       "      <td>...</td>\n",
       "      <td>...</td>\n",
       "      <td>...</td>\n",
       "      <td>...</td>\n",
       "      <td>...</td>\n",
       "      <td>...</td>\n",
       "      <td>...</td>\n",
       "      <td>...</td>\n",
       "      <td>...</td>\n",
       "      <td>...</td>\n",
       "      <td>...</td>\n",
       "      <td>...</td>\n",
       "    </tr>\n",
       "    <tr>\n",
       "      <th>183407</th>\n",
       "      <td>False</td>\n",
       "      <td>False</td>\n",
       "      <td>False</td>\n",
       "      <td>False</td>\n",
       "      <td>False</td>\n",
       "      <td>False</td>\n",
       "      <td>False</td>\n",
       "      <td>False</td>\n",
       "      <td>False</td>\n",
       "      <td>False</td>\n",
       "      <td>False</td>\n",
       "      <td>False</td>\n",
       "      <td>False</td>\n",
       "      <td>False</td>\n",
       "      <td>False</td>\n",
       "      <td>False</td>\n",
       "    </tr>\n",
       "    <tr>\n",
       "      <th>183408</th>\n",
       "      <td>False</td>\n",
       "      <td>False</td>\n",
       "      <td>False</td>\n",
       "      <td>False</td>\n",
       "      <td>False</td>\n",
       "      <td>False</td>\n",
       "      <td>False</td>\n",
       "      <td>False</td>\n",
       "      <td>False</td>\n",
       "      <td>False</td>\n",
       "      <td>False</td>\n",
       "      <td>False</td>\n",
       "      <td>False</td>\n",
       "      <td>False</td>\n",
       "      <td>False</td>\n",
       "      <td>False</td>\n",
       "    </tr>\n",
       "    <tr>\n",
       "      <th>183409</th>\n",
       "      <td>False</td>\n",
       "      <td>False</td>\n",
       "      <td>False</td>\n",
       "      <td>False</td>\n",
       "      <td>False</td>\n",
       "      <td>False</td>\n",
       "      <td>False</td>\n",
       "      <td>False</td>\n",
       "      <td>False</td>\n",
       "      <td>False</td>\n",
       "      <td>False</td>\n",
       "      <td>False</td>\n",
       "      <td>False</td>\n",
       "      <td>False</td>\n",
       "      <td>False</td>\n",
       "      <td>False</td>\n",
       "    </tr>\n",
       "    <tr>\n",
       "      <th>183410</th>\n",
       "      <td>False</td>\n",
       "      <td>False</td>\n",
       "      <td>False</td>\n",
       "      <td>False</td>\n",
       "      <td>False</td>\n",
       "      <td>False</td>\n",
       "      <td>False</td>\n",
       "      <td>False</td>\n",
       "      <td>False</td>\n",
       "      <td>False</td>\n",
       "      <td>False</td>\n",
       "      <td>False</td>\n",
       "      <td>False</td>\n",
       "      <td>False</td>\n",
       "      <td>False</td>\n",
       "      <td>False</td>\n",
       "    </tr>\n",
       "    <tr>\n",
       "      <th>183411</th>\n",
       "      <td>False</td>\n",
       "      <td>False</td>\n",
       "      <td>False</td>\n",
       "      <td>False</td>\n",
       "      <td>False</td>\n",
       "      <td>False</td>\n",
       "      <td>False</td>\n",
       "      <td>False</td>\n",
       "      <td>False</td>\n",
       "      <td>False</td>\n",
       "      <td>False</td>\n",
       "      <td>False</td>\n",
       "      <td>False</td>\n",
       "      <td>False</td>\n",
       "      <td>False</td>\n",
       "      <td>False</td>\n",
       "    </tr>\n",
       "  </tbody>\n",
       "</table>\n",
       "<p>183412 rows × 16 columns</p>\n",
       "</div>"
      ],
      "text/plain": [
       "        duration_sec  start_time  end_time  start_station_id  \\\n",
       "0              False       False     False             False   \n",
       "1              False       False     False             False   \n",
       "2              False       False     False             False   \n",
       "3              False       False     False             False   \n",
       "4              False       False     False             False   \n",
       "...              ...         ...       ...               ...   \n",
       "183407         False       False     False             False   \n",
       "183408         False       False     False             False   \n",
       "183409         False       False     False             False   \n",
       "183410         False       False     False             False   \n",
       "183411         False       False     False             False   \n",
       "\n",
       "        start_station_name  start_station_latitude  start_station_longitude  \\\n",
       "0                    False                   False                    False   \n",
       "1                    False                   False                    False   \n",
       "2                    False                   False                    False   \n",
       "3                    False                   False                    False   \n",
       "4                    False                   False                    False   \n",
       "...                    ...                     ...                      ...   \n",
       "183407               False                   False                    False   \n",
       "183408               False                   False                    False   \n",
       "183409               False                   False                    False   \n",
       "183410               False                   False                    False   \n",
       "183411               False                   False                    False   \n",
       "\n",
       "        end_station_id  end_station_name  end_station_latitude  \\\n",
       "0                False             False                 False   \n",
       "1                False             False                 False   \n",
       "2                False             False                 False   \n",
       "3                False             False                 False   \n",
       "4                False             False                 False   \n",
       "...                ...               ...                   ...   \n",
       "183407           False             False                 False   \n",
       "183408           False             False                 False   \n",
       "183409           False             False                 False   \n",
       "183410           False             False                 False   \n",
       "183411           False             False                 False   \n",
       "\n",
       "        end_station_longitude  bike_id  user_type  member_birth_year  \\\n",
       "0                       False    False      False              False   \n",
       "1                       False    False      False               True   \n",
       "2                       False    False      False              False   \n",
       "3                       False    False      False              False   \n",
       "4                       False    False      False              False   \n",
       "...                       ...      ...        ...                ...   \n",
       "183407                  False    False      False              False   \n",
       "183408                  False    False      False              False   \n",
       "183409                  False    False      False              False   \n",
       "183410                  False    False      False              False   \n",
       "183411                  False    False      False              False   \n",
       "\n",
       "        member_gender  bike_share_for_all_trip  \n",
       "0               False                    False  \n",
       "1                True                    False  \n",
       "2               False                    False  \n",
       "3               False                    False  \n",
       "4               False                    False  \n",
       "...               ...                      ...  \n",
       "183407          False                    False  \n",
       "183408          False                    False  \n",
       "183409          False                    False  \n",
       "183410          False                    False  \n",
       "183411          False                    False  \n",
       "\n",
       "[183412 rows x 16 columns]"
      ]
     },
     "execution_count": 9,
     "metadata": {},
     "output_type": "execute_result"
    }
   ],
   "source": [
    "biketrip_df.isna()"
   ]
  },
  {
   "cell_type": "code",
   "execution_count": 10,
   "metadata": {},
   "outputs": [
    {
     "data": {
      "image/png": "[encoded data removed]",
      "text/plain": [
       "<Figure size 720x360 with 9 Axes>"
      ]
     },
     "metadata": {
      "needs_background": "light"
     },
     "output_type": "display_data"
    }
   ],
   "source": [
    "# I plot the distribution of each variable in the dataset to have a general overview of my variables\n",
    "\n",
    "biketrip_df.hist(bins=30, figsize =(10,5));\n",
    "plt.tight_layout()"
   ]
  },
  {
   "cell_type": "markdown",
   "metadata": {},
   "source": [
    "##### Issues with the Data Quality & Tidiness\n",
    "\n",
    "- Duration is in seconds which may not be easy to comprehend and also have too large values during visualization\n",
    "- Wrong datatype for start_time, end_time and member_birthyear.\n",
    "- Start time and start date information in one column\n",
    "- Long column names\n",
    "- Extraneous columns not related to my research interest\n",
    "- Missing values in 6 columns-start-station_id, start_station_name, end_station_id, end_station_name, member_birthyear and   member_gender."
   ]
  },
  {
   "cell_type": "markdown",
   "metadata": {},
   "source": [
    "### Data Cleaning"
   ]
  },
  {
   "cell_type": "code",
   "execution_count": 11,
   "metadata": {},
   "outputs": [],
   "source": [
    "# First save a copy\n",
    "biketrip_df = biketrip_df.copy()"
   ]
  },
  {
   "cell_type": "code",
   "execution_count": 12,
   "metadata": {},
   "outputs": [],
   "source": [
    "# Issue1: change duration_sec from format sec to format min and rename as duration\n",
    "biketrip_df['duration'] = (biketrip_df['duration_sec']/60).astype(int)"
   ]
  },
  {
   "cell_type": "code",
   "execution_count": 13,
   "metadata": {},
   "outputs": [],
   "source": [
    "# Issue2: Age is a more useful attribute than birthyear so I need to extract age from birthyear but first i will convert birthyear \n",
    "# ..to integer since age cannot be float\n",
    "\n",
    "# convert member birth year to integer since birthyear cannot be float \n",
    "biketrip_df.member_birth_year=biketrip_df.member_birth_year.apply(np.round).astype('Int64')\n",
    "\n",
    "# extract member age from member birth year for easy comprehension\n",
    "biketrip_df['m_age']=2022-biketrip_df['member_birth_year']"
   ]
  },
  {
   "cell_type": "code",
   "execution_count": 15,
   "metadata": {},
   "outputs": [],
   "source": [
    "#Issue3: Split time and date information to seperate columns convert start time and end time from string type to datetime type so i can split ..\n",
    "#..the time and date information to different columns to fix the data tidiness issue\n",
    "\n",
    "biketrip_df.start_time = pd.to_datetime(biketrip_df.start_time)\n",
    "biketrip_df.end_time = pd.to_datetime(biketrip_df.end_time)\n",
    "\n",
    "# extract time(hour of the day) information \n",
    "biketrip_df['start_hr'] =biketrip_df['start_time'].apply(lambda x: x.hour)\n",
    "biketrip_df['end_hr'] =biketrip_df['end_time'].apply(lambda x: x.hour)\n",
    "\n",
    "#extract date(date and day of the week) information\n",
    "biketrip_df['start_date']=biketrip_df['start_time'].dt.normalize()\n",
    "biketrip_df['end_date']=biketrip_df['end_time'].dt.normalize()\n",
    "\n",
    "biketrip_df['start_weekday']=biketrip_df['start_time'].dt.day_name()\n",
    "biketrip_df['end_weekday']=biketrip_df['end_time'].dt.day_name()"
   ]
  },
  {
   "cell_type": "code",
   "execution_count": 16,
   "metadata": {},
   "outputs": [],
   "source": [
    "#Issue4: rename long column names\n",
    "biketrip_df.rename(columns={'member_gender':'m_gender','start_station_id ':'ssid','end_station_id ':'esid'}, inplace=True)"
   ]
  },
  {
   "cell_type": "code",
   "execution_count": 17,
   "metadata": {},
   "outputs": [],
   "source": [
    "#Issue5&6: Drop extraneous columns that don't have to do with user information and timing information\n",
    "# Drop missing values\n",
    "biketrip_df.drop(['duration_sec','start_time','end_time','start_station_name','start_station_latitude','start_station_longitude',\n",
    "         'end_station_name','end_station_latitude','end_station_longitude','member_birth_year'],axis =1 , inplace = True)\n",
    "\n",
    "biketrip_df.dropna(axis=0,inplace=True)\n"
   ]
  },
  {
   "cell_type": "code",
   "execution_count": 18,
   "metadata": {},
   "outputs": [
    {
     "name": "stdout",
     "output_type": "stream",
     "text": [
      "<class 'pandas.core.frame.DataFrame'>\n",
      "Int64Index: 174952 entries, 0 to 183411\n",
      "Data columns (total 14 columns):\n",
      " #   Column                   Non-Null Count   Dtype         \n",
      "---  ------                   --------------   -----         \n",
      " 0   start_station_id         174952 non-null  float64       \n",
      " 1   end_station_id           174952 non-null  float64       \n",
      " 2   bike_id                  174952 non-null  int64         \n",
      " 3   user_type                174952 non-null  object        \n",
      " 4   m_gender                 174952 non-null  object        \n",
      " 5   bike_share_for_all_trip  174952 non-null  object        \n",
      " 6   duration                 174952 non-null  int32         \n",
      " 7   m_age                    174952 non-null  Int64         \n",
      " 8   start_hr                 174952 non-null  int64         \n",
      " 9   end_hr                   174952 non-null  int64         \n",
      " 10  start_date               174952 non-null  datetime64[ns]\n",
      " 11  end_date                 174952 non-null  datetime64[ns]\n",
      " 12  start_weekday            174952 non-null  object        \n",
      " 13  end_weekday              174952 non-null  object        \n",
      "dtypes: Int64(1), datetime64[ns](2), float64(2), int32(1), int64(3), object(5)\n",
      "memory usage: 19.5+ MB\n"
     ]
    }
   ],
   "source": [
    "biketrip_df.info()"
   ]
  },
  {
   "cell_type": "code",
   "execution_count": 19,
   "metadata": {},
   "outputs": [
    {
     "data": {
      "text/html": [
       "<div>\n",
       "<style scoped>\n",
       "    .dataframe tbody tr th:only-of-type {\n",
       "        vertical-align: middle;\n",
       "    }\n",
       "\n",
       "    .dataframe tbody tr th {\n",
       "        vertical-align: top;\n",
       "    }\n",
       "\n",
       "    .dataframe thead th {\n",
       "        text-align: right;\n",
       "    }\n",
       "</style>\n",
       "<table border=\"1\" class=\"dataframe\">\n",
       "  <thead>\n",
       "    <tr style=\"text-align: right;\">\n",
       "      <th></th>\n",
       "      <th>start_station_id</th>\n",
       "      <th>end_station_id</th>\n",
       "      <th>bike_id</th>\n",
       "      <th>user_type</th>\n",
       "      <th>m_gender</th>\n",
       "      <th>bike_share_for_all_trip</th>\n",
       "      <th>duration</th>\n",
       "      <th>m_age</th>\n",
       "      <th>start_hr</th>\n",
       "      <th>end_hr</th>\n",
       "      <th>start_date</th>\n",
       "      <th>end_date</th>\n",
       "      <th>start_weekday</th>\n",
       "      <th>end_weekday</th>\n",
       "    </tr>\n",
       "  </thead>\n",
       "  <tbody>\n",
       "    <tr>\n",
       "      <th>0</th>\n",
       "      <td>21.0</td>\n",
       "      <td>13.0</td>\n",
       "      <td>4902</td>\n",
       "      <td>Customer</td>\n",
       "      <td>Male</td>\n",
       "      <td>No</td>\n",
       "      <td>869</td>\n",
       "      <td>38</td>\n",
       "      <td>17</td>\n",
       "      <td>8</td>\n",
       "      <td>2019-02-28</td>\n",
       "      <td>2019-03-01</td>\n",
       "      <td>Thursday</td>\n",
       "      <td>Friday</td>\n",
       "    </tr>\n",
       "    <tr>\n",
       "      <th>2</th>\n",
       "      <td>86.0</td>\n",
       "      <td>3.0</td>\n",
       "      <td>5905</td>\n",
       "      <td>Customer</td>\n",
       "      <td>Male</td>\n",
       "      <td>No</td>\n",
       "      <td>1030</td>\n",
       "      <td>50</td>\n",
       "      <td>12</td>\n",
       "      <td>5</td>\n",
       "      <td>2019-02-28</td>\n",
       "      <td>2019-03-01</td>\n",
       "      <td>Thursday</td>\n",
       "      <td>Friday</td>\n",
       "    </tr>\n",
       "    <tr>\n",
       "      <th>3</th>\n",
       "      <td>375.0</td>\n",
       "      <td>70.0</td>\n",
       "      <td>6638</td>\n",
       "      <td>Subscriber</td>\n",
       "      <td>Other</td>\n",
       "      <td>No</td>\n",
       "      <td>608</td>\n",
       "      <td>33</td>\n",
       "      <td>17</td>\n",
       "      <td>4</td>\n",
       "      <td>2019-02-28</td>\n",
       "      <td>2019-03-01</td>\n",
       "      <td>Thursday</td>\n",
       "      <td>Friday</td>\n",
       "    </tr>\n",
       "    <tr>\n",
       "      <th>4</th>\n",
       "      <td>7.0</td>\n",
       "      <td>222.0</td>\n",
       "      <td>4898</td>\n",
       "      <td>Subscriber</td>\n",
       "      <td>Male</td>\n",
       "      <td>Yes</td>\n",
       "      <td>26</td>\n",
       "      <td>48</td>\n",
       "      <td>23</td>\n",
       "      <td>0</td>\n",
       "      <td>2019-02-28</td>\n",
       "      <td>2019-03-01</td>\n",
       "      <td>Thursday</td>\n",
       "      <td>Friday</td>\n",
       "    </tr>\n",
       "    <tr>\n",
       "      <th>5</th>\n",
       "      <td>93.0</td>\n",
       "      <td>323.0</td>\n",
       "      <td>5200</td>\n",
       "      <td>Subscriber</td>\n",
       "      <td>Male</td>\n",
       "      <td>No</td>\n",
       "      <td>29</td>\n",
       "      <td>63</td>\n",
       "      <td>23</td>\n",
       "      <td>0</td>\n",
       "      <td>2019-02-28</td>\n",
       "      <td>2019-03-01</td>\n",
       "      <td>Thursday</td>\n",
       "      <td>Friday</td>\n",
       "    </tr>\n",
       "  </tbody>\n",
       "</table>\n",
       "</div>"
      ],
      "text/plain": [
       "   start_station_id  end_station_id  bike_id   user_type m_gender  \\\n",
       "0              21.0            13.0     4902    Customer     Male   \n",
       "2              86.0             3.0     5905    Customer     Male   \n",
       "3             375.0            70.0     6638  Subscriber    Other   \n",
       "4               7.0           222.0     4898  Subscriber     Male   \n",
       "5              93.0           323.0     5200  Subscriber     Male   \n",
       "\n",
       "  bike_share_for_all_trip  duration  m_age  start_hr  end_hr start_date  \\\n",
       "0                      No       869     38        17       8 2019-02-28   \n",
       "2                      No      1030     50        12       5 2019-02-28   \n",
       "3                      No       608     33        17       4 2019-02-28   \n",
       "4                     Yes        26     48        23       0 2019-02-28   \n",
       "5                      No        29     63        23       0 2019-02-28   \n",
       "\n",
       "    end_date start_weekday end_weekday  \n",
       "0 2019-03-01      Thursday      Friday  \n",
       "2 2019-03-01      Thursday      Friday  \n",
       "3 2019-03-01      Thursday      Friday  \n",
       "4 2019-03-01      Thursday      Friday  \n",
       "5 2019-03-01      Thursday      Friday  "
      ]
     },
     "execution_count": 19,
     "metadata": {},
     "output_type": "execute_result"
    }
   ],
   "source": [
    "biketrip_df.head()"
   ]
  },
  {
   "cell_type": "code",
   "execution_count": 20,
   "metadata": {},
   "outputs": [
    {
     "data": {
      "text/html": [
       "<div>\n",
       "<style scoped>\n",
       "    .dataframe tbody tr th:only-of-type {\n",
       "        vertical-align: middle;\n",
       "    }\n",
       "\n",
       "    .dataframe tbody tr th {\n",
       "        vertical-align: top;\n",
       "    }\n",
       "\n",
       "    .dataframe thead th {\n",
       "        text-align: right;\n",
       "    }\n",
       "</style>\n",
       "<table border=\"1\" class=\"dataframe\">\n",
       "  <thead>\n",
       "    <tr style=\"text-align: right;\">\n",
       "      <th></th>\n",
       "      <th>start_station_id</th>\n",
       "      <th>end_station_id</th>\n",
       "      <th>bike_id</th>\n",
       "      <th>duration</th>\n",
       "      <th>m_age</th>\n",
       "      <th>start_hr</th>\n",
       "      <th>end_hr</th>\n",
       "    </tr>\n",
       "  </thead>\n",
       "  <tbody>\n",
       "    <tr>\n",
       "      <th>count</th>\n",
       "      <td>174952.000000</td>\n",
       "      <td>174952.000000</td>\n",
       "      <td>174952.000000</td>\n",
       "      <td>174952.000000</td>\n",
       "      <td>174952.000000</td>\n",
       "      <td>174952.000000</td>\n",
       "      <td>174952.000000</td>\n",
       "    </tr>\n",
       "    <tr>\n",
       "      <th>mean</th>\n",
       "      <td>139.002126</td>\n",
       "      <td>136.604486</td>\n",
       "      <td>4482.587555</td>\n",
       "      <td>11.241461</td>\n",
       "      <td>37.196865</td>\n",
       "      <td>13.456165</td>\n",
       "      <td>13.609533</td>\n",
       "    </tr>\n",
       "    <tr>\n",
       "      <th>std</th>\n",
       "      <td>111.648819</td>\n",
       "      <td>111.335635</td>\n",
       "      <td>1659.195937</td>\n",
       "      <td>27.371269</td>\n",
       "      <td>10.118731</td>\n",
       "      <td>4.734282</td>\n",
       "      <td>4.748029</td>\n",
       "    </tr>\n",
       "    <tr>\n",
       "      <th>min</th>\n",
       "      <td>3.000000</td>\n",
       "      <td>3.000000</td>\n",
       "      <td>11.000000</td>\n",
       "      <td>1.000000</td>\n",
       "      <td>21.000000</td>\n",
       "      <td>0.000000</td>\n",
       "      <td>0.000000</td>\n",
       "    </tr>\n",
       "    <tr>\n",
       "      <th>25%</th>\n",
       "      <td>47.000000</td>\n",
       "      <td>44.000000</td>\n",
       "      <td>3799.000000</td>\n",
       "      <td>5.000000</td>\n",
       "      <td>30.000000</td>\n",
       "      <td>9.000000</td>\n",
       "      <td>9.000000</td>\n",
       "    </tr>\n",
       "    <tr>\n",
       "      <th>50%</th>\n",
       "      <td>104.000000</td>\n",
       "      <td>101.000000</td>\n",
       "      <td>4960.000000</td>\n",
       "      <td>8.000000</td>\n",
       "      <td>35.000000</td>\n",
       "      <td>14.000000</td>\n",
       "      <td>14.000000</td>\n",
       "    </tr>\n",
       "    <tr>\n",
       "      <th>75%</th>\n",
       "      <td>239.000000</td>\n",
       "      <td>238.000000</td>\n",
       "      <td>5505.000000</td>\n",
       "      <td>13.000000</td>\n",
       "      <td>42.000000</td>\n",
       "      <td>17.000000</td>\n",
       "      <td>18.000000</td>\n",
       "    </tr>\n",
       "    <tr>\n",
       "      <th>max</th>\n",
       "      <td>398.000000</td>\n",
       "      <td>398.000000</td>\n",
       "      <td>6645.000000</td>\n",
       "      <td>1409.000000</td>\n",
       "      <td>144.000000</td>\n",
       "      <td>23.000000</td>\n",
       "      <td>23.000000</td>\n",
       "    </tr>\n",
       "  </tbody>\n",
       "</table>\n",
       "</div>"
      ],
      "text/plain": [
       "       start_station_id  end_station_id        bike_id       duration  \\\n",
       "count     174952.000000   174952.000000  174952.000000  174952.000000   \n",
       "mean         139.002126      136.604486    4482.587555      11.241461   \n",
       "std          111.648819      111.335635    1659.195937      27.371269   \n",
       "min            3.000000        3.000000      11.000000       1.000000   \n",
       "25%           47.000000       44.000000    3799.000000       5.000000   \n",
       "50%          104.000000      101.000000    4960.000000       8.000000   \n",
       "75%          239.000000      238.000000    5505.000000      13.000000   \n",
       "max          398.000000      398.000000    6645.000000    1409.000000   \n",
       "\n",
       "               m_age       start_hr         end_hr  \n",
       "count  174952.000000  174952.000000  174952.000000  \n",
       "mean       37.196865      13.456165      13.609533  \n",
       "std        10.118731       4.734282       4.748029  \n",
       "min        21.000000       0.000000       0.000000  \n",
       "25%        30.000000       9.000000       9.000000  \n",
       "50%        35.000000      14.000000      14.000000  \n",
       "75%        42.000000      17.000000      18.000000  \n",
       "max       144.000000      23.000000      23.000000  "
      ]
     },
     "execution_count": 20,
     "metadata": {},
     "output_type": "execute_result"
    }
   ],
   "source": [
    "#descriptive statistics for numeric variables\n",
    "biketrip_df.describe()"
   ]
  },
  {
   "cell_type": "code",
   "execution_count": 21,
   "metadata": {},
   "outputs": [
    {
     "data": {
      "text/html": [
       "<div>\n",
       "<style scoped>\n",
       "    .dataframe tbody tr th:only-of-type {\n",
       "        vertical-align: middle;\n",
       "    }\n",
       "\n",
       "    .dataframe tbody tr th {\n",
       "        vertical-align: top;\n",
       "    }\n",
       "\n",
       "    .dataframe thead th {\n",
       "        text-align: right;\n",
       "    }\n",
       "</style>\n",
       "<table border=\"1\" class=\"dataframe\">\n",
       "  <thead>\n",
       "    <tr style=\"text-align: right;\">\n",
       "      <th></th>\n",
       "      <th>user_type</th>\n",
       "      <th>m_gender</th>\n",
       "      <th>bike_share_for_all_trip</th>\n",
       "      <th>start_weekday</th>\n",
       "      <th>end_weekday</th>\n",
       "    </tr>\n",
       "  </thead>\n",
       "  <tbody>\n",
       "    <tr>\n",
       "      <th>count</th>\n",
       "      <td>174952</td>\n",
       "      <td>174952</td>\n",
       "      <td>174952</td>\n",
       "      <td>174952</td>\n",
       "      <td>174952</td>\n",
       "    </tr>\n",
       "    <tr>\n",
       "      <th>unique</th>\n",
       "      <td>2</td>\n",
       "      <td>3</td>\n",
       "      <td>2</td>\n",
       "      <td>7</td>\n",
       "      <td>7</td>\n",
       "    </tr>\n",
       "    <tr>\n",
       "      <th>top</th>\n",
       "      <td>Subscriber</td>\n",
       "      <td>Male</td>\n",
       "      <td>No</td>\n",
       "      <td>Thursday</td>\n",
       "      <td>Thursday</td>\n",
       "    </tr>\n",
       "    <tr>\n",
       "      <th>freq</th>\n",
       "      <td>158386</td>\n",
       "      <td>130500</td>\n",
       "      <td>157606</td>\n",
       "      <td>33712</td>\n",
       "      <td>33707</td>\n",
       "    </tr>\n",
       "  </tbody>\n",
       "</table>\n",
       "</div>"
      ],
      "text/plain": [
       "         user_type m_gender bike_share_for_all_trip start_weekday end_weekday\n",
       "count       174952   174952                  174952        174952      174952\n",
       "unique           2        3                       2             7           7\n",
       "top     Subscriber     Male                      No      Thursday    Thursday\n",
       "freq        158386   130500                  157606         33712       33707"
      ]
     },
     "execution_count": 21,
     "metadata": {},
     "output_type": "execute_result"
    }
   ],
   "source": [
    "# descriptive statistics for categorical variables\n",
    "biketrip_df.describe(include = ['O'])"
   ]
  },
  {
   "cell_type": "code",
   "execution_count": 22,
   "metadata": {},
   "outputs": [
    {
     "data": {
      "text/plain": [
       "start_station_id            329\n",
       "end_station_id              329\n",
       "bike_id                    4607\n",
       "user_type                     2\n",
       "m_gender                      3\n",
       "bike_share_for_all_trip       2\n",
       "duration                    426\n",
       "m_age                        75\n",
       "start_hr                     24\n",
       "end_hr                       24\n",
       "start_date                   28\n",
       "end_date                     29\n",
       "start_weekday                 7\n",
       "end_weekday                   7\n",
       "dtype: int64"
      ]
     },
     "execution_count": 22,
     "metadata": {},
     "output_type": "execute_result"
    }
   ],
   "source": [
    "biketrip_df.nunique()"
   ]
  },
  {
   "cell_type": "code",
   "execution_count": 23,
   "metadata": {},
   "outputs": [
    {
     "data": {
      "image/png": "[encoded data removed]",
      "text/plain": [
       "<Figure size 576x432 with 9 Axes>"
      ]
     },
     "metadata": {
      "needs_background": "light"
     },
     "output_type": "display_data"
    }
   ],
   "source": [
    "biketrip_df.hist(bins=20, figsize =(8,6));\n",
    "plt.tight_layout()"
   ]
  },
  {
   "cell_type": "markdown",
   "metadata": {},
   "source": [
    "### Data Storing\n",
    "Save cleaned dataset to the csv file 'ford-gobiketrip_master.csv'"
   ]
  },
  {
   "cell_type": "code",
   "execution_count": 24,
   "metadata": {},
   "outputs": [],
   "source": [
    "biketrip_df.to_csv('ford-gobiketrip_master.csv',encoding='utf-8')"
   ]
  },
  {
   "cell_type": "markdown",
   "metadata": {},
   "source": [
    "## Exploratory Data Analysis"
   ]
  },
  {
   "cell_type": "code",
   "execution_count": 25,
   "metadata": {},
   "outputs": [
    {
     "data": {
      "text/html": [
       "<div>\n",
       "<style scoped>\n",
       "    .dataframe tbody tr th:only-of-type {\n",
       "        vertical-align: middle;\n",
       "    }\n",
       "\n",
       "    .dataframe tbody tr th {\n",
       "        vertical-align: top;\n",
       "    }\n",
       "\n",
       "    .dataframe thead th {\n",
       "        text-align: right;\n",
       "    }\n",
       "</style>\n",
       "<table border=\"1\" class=\"dataframe\">\n",
       "  <thead>\n",
       "    <tr style=\"text-align: right;\">\n",
       "      <th></th>\n",
       "      <th>Unnamed: 0</th>\n",
       "      <th>start_station_id</th>\n",
       "      <th>end_station_id</th>\n",
       "      <th>bike_id</th>\n",
       "      <th>user_type</th>\n",
       "      <th>m_gender</th>\n",
       "      <th>bike_share_for_all_trip</th>\n",
       "      <th>duration</th>\n",
       "      <th>m_age</th>\n",
       "      <th>start_hr</th>\n",
       "      <th>end_hr</th>\n",
       "      <th>start_date</th>\n",
       "      <th>end_date</th>\n",
       "      <th>start_weekday</th>\n",
       "      <th>end_weekday</th>\n",
       "    </tr>\n",
       "  </thead>\n",
       "  <tbody>\n",
       "    <tr>\n",
       "      <th>0</th>\n",
       "      <td>0</td>\n",
       "      <td>21.0</td>\n",
       "      <td>13.0</td>\n",
       "      <td>4902</td>\n",
       "      <td>Customer</td>\n",
       "      <td>Male</td>\n",
       "      <td>No</td>\n",
       "      <td>869</td>\n",
       "      <td>38</td>\n",
       "      <td>17</td>\n",
       "      <td>8</td>\n",
       "      <td>2019-02-28</td>\n",
       "      <td>2019-03-01</td>\n",
       "      <td>Thursday</td>\n",
       "      <td>Friday</td>\n",
       "    </tr>\n",
       "    <tr>\n",
       "      <th>1</th>\n",
       "      <td>2</td>\n",
       "      <td>86.0</td>\n",
       "      <td>3.0</td>\n",
       "      <td>5905</td>\n",
       "      <td>Customer</td>\n",
       "      <td>Male</td>\n",
       "      <td>No</td>\n",
       "      <td>1030</td>\n",
       "      <td>50</td>\n",
       "      <td>12</td>\n",
       "      <td>5</td>\n",
       "      <td>2019-02-28</td>\n",
       "      <td>2019-03-01</td>\n",
       "      <td>Thursday</td>\n",
       "      <td>Friday</td>\n",
       "    </tr>\n",
       "    <tr>\n",
       "      <th>2</th>\n",
       "      <td>3</td>\n",
       "      <td>375.0</td>\n",
       "      <td>70.0</td>\n",
       "      <td>6638</td>\n",
       "      <td>Subscriber</td>\n",
       "      <td>Other</td>\n",
       "      <td>No</td>\n",
       "      <td>608</td>\n",
       "      <td>33</td>\n",
       "      <td>17</td>\n",
       "      <td>4</td>\n",
       "      <td>2019-02-28</td>\n",
       "      <td>2019-03-01</td>\n",
       "      <td>Thursday</td>\n",
       "      <td>Friday</td>\n",
       "    </tr>\n",
       "    <tr>\n",
       "      <th>3</th>\n",
       "      <td>4</td>\n",
       "      <td>7.0</td>\n",
       "      <td>222.0</td>\n",
       "      <td>4898</td>\n",
       "      <td>Subscriber</td>\n",
       "      <td>Male</td>\n",
       "      <td>Yes</td>\n",
       "      <td>26</td>\n",
       "      <td>48</td>\n",
       "      <td>23</td>\n",
       "      <td>0</td>\n",
       "      <td>2019-02-28</td>\n",
       "      <td>2019-03-01</td>\n",
       "      <td>Thursday</td>\n",
       "      <td>Friday</td>\n",
       "    </tr>\n",
       "    <tr>\n",
       "      <th>4</th>\n",
       "      <td>5</td>\n",
       "      <td>93.0</td>\n",
       "      <td>323.0</td>\n",
       "      <td>5200</td>\n",
       "      <td>Subscriber</td>\n",
       "      <td>Male</td>\n",
       "      <td>No</td>\n",
       "      <td>29</td>\n",
       "      <td>63</td>\n",
       "      <td>23</td>\n",
       "      <td>0</td>\n",
       "      <td>2019-02-28</td>\n",
       "      <td>2019-03-01</td>\n",
       "      <td>Thursday</td>\n",
       "      <td>Friday</td>\n",
       "    </tr>\n",
       "    <tr>\n",
       "      <th>...</th>\n",
       "      <td>...</td>\n",
       "      <td>...</td>\n",
       "      <td>...</td>\n",
       "      <td>...</td>\n",
       "      <td>...</td>\n",
       "      <td>...</td>\n",
       "      <td>...</td>\n",
       "      <td>...</td>\n",
       "      <td>...</td>\n",
       "      <td>...</td>\n",
       "      <td>...</td>\n",
       "      <td>...</td>\n",
       "      <td>...</td>\n",
       "      <td>...</td>\n",
       "      <td>...</td>\n",
       "    </tr>\n",
       "    <tr>\n",
       "      <th>174947</th>\n",
       "      <td>183407</td>\n",
       "      <td>27.0</td>\n",
       "      <td>324.0</td>\n",
       "      <td>4832</td>\n",
       "      <td>Subscriber</td>\n",
       "      <td>Male</td>\n",
       "      <td>No</td>\n",
       "      <td>8</td>\n",
       "      <td>26</td>\n",
       "      <td>0</td>\n",
       "      <td>0</td>\n",
       "      <td>2019-02-01</td>\n",
       "      <td>2019-02-01</td>\n",
       "      <td>Friday</td>\n",
       "      <td>Friday</td>\n",
       "    </tr>\n",
       "    <tr>\n",
       "      <th>174948</th>\n",
       "      <td>183408</td>\n",
       "      <td>21.0</td>\n",
       "      <td>66.0</td>\n",
       "      <td>4960</td>\n",
       "      <td>Subscriber</td>\n",
       "      <td>Male</td>\n",
       "      <td>No</td>\n",
       "      <td>5</td>\n",
       "      <td>38</td>\n",
       "      <td>0</td>\n",
       "      <td>0</td>\n",
       "      <td>2019-02-01</td>\n",
       "      <td>2019-02-01</td>\n",
       "      <td>Friday</td>\n",
       "      <td>Friday</td>\n",
       "    </tr>\n",
       "    <tr>\n",
       "      <th>174949</th>\n",
       "      <td>183409</td>\n",
       "      <td>278.0</td>\n",
       "      <td>277.0</td>\n",
       "      <td>3824</td>\n",
       "      <td>Subscriber</td>\n",
       "      <td>Male</td>\n",
       "      <td>Yes</td>\n",
       "      <td>2</td>\n",
       "      <td>32</td>\n",
       "      <td>0</td>\n",
       "      <td>0</td>\n",
       "      <td>2019-02-01</td>\n",
       "      <td>2019-02-01</td>\n",
       "      <td>Friday</td>\n",
       "      <td>Friday</td>\n",
       "    </tr>\n",
       "    <tr>\n",
       "      <th>174950</th>\n",
       "      <td>183410</td>\n",
       "      <td>220.0</td>\n",
       "      <td>216.0</td>\n",
       "      <td>5095</td>\n",
       "      <td>Subscriber</td>\n",
       "      <td>Male</td>\n",
       "      <td>No</td>\n",
       "      <td>2</td>\n",
       "      <td>34</td>\n",
       "      <td>0</td>\n",
       "      <td>0</td>\n",
       "      <td>2019-02-01</td>\n",
       "      <td>2019-02-01</td>\n",
       "      <td>Friday</td>\n",
       "      <td>Friday</td>\n",
       "    </tr>\n",
       "    <tr>\n",
       "      <th>174951</th>\n",
       "      <td>183411</td>\n",
       "      <td>24.0</td>\n",
       "      <td>37.0</td>\n",
       "      <td>1057</td>\n",
       "      <td>Subscriber</td>\n",
       "      <td>Male</td>\n",
       "      <td>No</td>\n",
       "      <td>4</td>\n",
       "      <td>33</td>\n",
       "      <td>0</td>\n",
       "      <td>0</td>\n",
       "      <td>2019-02-01</td>\n",
       "      <td>2019-02-01</td>\n",
       "      <td>Friday</td>\n",
       "      <td>Friday</td>\n",
       "    </tr>\n",
       "  </tbody>\n",
       "</table>\n",
       "<p>174952 rows × 15 columns</p>\n",
       "</div>"
      ],
      "text/plain": [
       "        Unnamed: 0  start_station_id  end_station_id  bike_id   user_type  \\\n",
       "0                0              21.0            13.0     4902    Customer   \n",
       "1                2              86.0             3.0     5905    Customer   \n",
       "2                3             375.0            70.0     6638  Subscriber   \n",
       "3                4               7.0           222.0     4898  Subscriber   \n",
       "4                5              93.0           323.0     5200  Subscriber   \n",
       "...            ...               ...             ...      ...         ...   \n",
       "174947      183407              27.0           324.0     4832  Subscriber   \n",
       "174948      183408              21.0            66.0     4960  Subscriber   \n",
       "174949      183409             278.0           277.0     3824  Subscriber   \n",
       "174950      183410             220.0           216.0     5095  Subscriber   \n",
       "174951      183411              24.0            37.0     1057  Subscriber   \n",
       "\n",
       "       m_gender bike_share_for_all_trip  duration  m_age  start_hr  end_hr  \\\n",
       "0          Male                      No       869     38        17       8   \n",
       "1          Male                      No      1030     50        12       5   \n",
       "2         Other                      No       608     33        17       4   \n",
       "3          Male                     Yes        26     48        23       0   \n",
       "4          Male                      No        29     63        23       0   \n",
       "...         ...                     ...       ...    ...       ...     ...   \n",
       "174947     Male                      No         8     26         0       0   \n",
       "174948     Male                      No         5     38         0       0   \n",
       "174949     Male                     Yes         2     32         0       0   \n",
       "174950     Male                      No         2     34         0       0   \n",
       "174951     Male                      No         4     33         0       0   \n",
       "\n",
       "        start_date    end_date start_weekday end_weekday  \n",
       "0       2019-02-28  2019-03-01      Thursday      Friday  \n",
       "1       2019-02-28  2019-03-01      Thursday      Friday  \n",
       "2       2019-02-28  2019-03-01      Thursday      Friday  \n",
       "3       2019-02-28  2019-03-01      Thursday      Friday  \n",
       "4       2019-02-28  2019-03-01      Thursday      Friday  \n",
       "...            ...         ...           ...         ...  \n",
       "174947  2019-02-01  2019-02-01        Friday      Friday  \n",
       "174948  2019-02-01  2019-02-01        Friday      Friday  \n",
       "174949  2019-02-01  2019-02-01        Friday      Friday  \n",
       "174950  2019-02-01  2019-02-01        Friday      Friday  \n",
       "174951  2019-02-01  2019-02-01        Friday      Friday  \n",
       "\n",
       "[174952 rows x 15 columns]"
      ]
     },
     "execution_count": 25,
     "metadata": {},
     "output_type": "execute_result"
    }
   ],
   "source": [
    "biketrip = pd.read_csv('ford-gobiketrip_master.csv')\n",
    "biketrip"
   ]
  },
  {
   "cell_type": "code",
   "execution_count": 26,
   "metadata": {},
   "outputs": [
    {
     "name": "stdout",
     "output_type": "stream",
     "text": [
      "(174952, 15)\n",
      "Unnamed: 0                   int64\n",
      "start_station_id           float64\n",
      "end_station_id             float64\n",
      "bike_id                      int64\n",
      "user_type                   object\n",
      "m_gender                    object\n",
      "bike_share_for_all_trip     object\n",
      "duration                     int64\n",
      "m_age                        int64\n",
      "start_hr                     int64\n",
      "end_hr                       int64\n",
      "start_date                  object\n",
      "end_date                    object\n",
      "start_weekday               object\n",
      "end_weekday                 object\n",
      "dtype: object\n",
      "   Unnamed: 0  start_station_id  end_station_id  bike_id   user_type m_gender  \\\n",
      "0           0              21.0            13.0     4902    Customer     Male   \n",
      "1           2              86.0             3.0     5905    Customer     Male   \n",
      "2           3             375.0            70.0     6638  Subscriber    Other   \n",
      "3           4               7.0           222.0     4898  Subscriber     Male   \n",
      "4           5              93.0           323.0     5200  Subscriber     Male   \n",
      "5           6             300.0           312.0     3803  Subscriber   Female   \n",
      "6           7              10.0           127.0     6329  Subscriber     Male   \n",
      "7           8              10.0           127.0     6548  Subscriber    Other   \n",
      "8           9              19.0           121.0     6488  Subscriber     Male   \n",
      "9          10             370.0            43.0     5318  Subscriber   Female   \n",
      "\n",
      "  bike_share_for_all_trip  duration  m_age  start_hr  end_hr  start_date  \\\n",
      "0                      No       869     38        17       8  2019-02-28   \n",
      "1                      No      1030     50        12       5  2019-02-28   \n",
      "2                      No       608     33        17       4  2019-02-28   \n",
      "3                     Yes        26     48        23       0  2019-02-28   \n",
      "4                      No        29     63        23       0  2019-02-28   \n",
      "5                      No        19     39        23       0  2019-02-28   \n",
      "6                      No        26     33        23       0  2019-02-28   \n",
      "7                      No        26     34        23       0  2019-02-28   \n",
      "8                      No        17     30        23       0  2019-02-28   \n",
      "9                     Yes         7     26        23       0  2019-02-28   \n",
      "\n",
      "     end_date start_weekday end_weekday  \n",
      "0  2019-03-01      Thursday      Friday  \n",
      "1  2019-03-01      Thursday      Friday  \n",
      "2  2019-03-01      Thursday      Friday  \n",
      "3  2019-03-01      Thursday      Friday  \n",
      "4  2019-03-01      Thursday      Friday  \n",
      "5  2019-03-01      Thursday      Friday  \n",
      "6  2019-03-01      Thursday      Friday  \n",
      "7  2019-03-01      Thursday      Friday  \n",
      "8  2019-03-01      Thursday      Friday  \n",
      "9  2019-03-01      Thursday      Friday  \n"
     ]
    }
   ],
   "source": [
    "# high-level overview of data shape and composition\n",
    "print(biketrip.shape)\n",
    "print(biketrip.dtypes)\n",
    "print(biketrip.head(10))"
   ]
  },
  {
   "cell_type": "markdown",
   "metadata": {},
   "source": [
    "### What is the structure of your dataset?\n",
    "\n",
    "At the end of my wrangling procedure, There are 174,952 records in the dataset with 15 features (duration, m_age, user_type, m_gender, start_station_id, end_station_id, bike_id, bike_share_for_all_trip, start_date, start_hr, start_weekday, end_date, end_hr and end_weekday). \n",
    "\n",
    "- Categoric variables are user_type, m_gender, bike_share_for_all_trip, start_weekday, end_weekday)\n",
    "- Numeric variables are duration, m_age, start_hr, end_hr, ssid, esid and bike_id, start_date, end_date.\n",
    "\n",
    "\n",
    "### What is/are the main feature(s) of interest in your dataset?\n",
    "\n",
    "I'm most interested in figuring out what features in the dataset are suitable for predicting the duration of a trip.The variable 'duration' is my main feature of interest in this dataset \n",
    "\n",
    "### What features in the dataset do you think will help support your investigation into your feature(s) of interest?\n",
    "\n",
    "I expect that member's age(m_age) will have the strongest effect on each trip's duration: most younger people who are at their youthful age are usually very energetic and have more capacity for physical activities such as these. This makes them more likely to complete trips quicker than their older counterparts. I also think that user_type, m_gender, start_hr, start_weekday will have effects on the duration of a trip too. I will explore these variables in the next section\n"
   ]
  },
  {
   "cell_type": "markdown",
   "metadata": {},
   "source": [
    "## Univariate Exploration\n",
    "\n",
    "> I'll start by looking at the distribution of my main feature of interest:'duration'"
   ]
  },
  {
   "cell_type": "code",
   "execution_count": 27,
   "metadata": {},
   "outputs": [
    {
     "name": "stdout",
     "output_type": "stream",
     "text": [
      "I've used a Standard scaled histogram plot to show the distribution of trip duration.  As can be seen, the variable has a lot of data points, about 426 which cannot be captured using a standard plot Using a standard scaled plot does not provide enough details about this distribution. It needs to be plotted on a scale that'll show clearer and more interesting details.\n"
     ]
    },
    {
     "data": {
      "image/png": "[encoded data removed]",
      "text/plain": [
       "<Figure size 1080x360 with 1 Axes>"
      ]
     },
     "metadata": {
      "needs_background": "light"
     },
     "output_type": "display_data"
    }
   ],
   "source": [
    "# starting with a standard scaled-histogram plot\n",
    "def durationstandardscale():\n",
    "    sol_string = [\"I've used a Standard scaled histogram plot to show the distribution of trip duration.\",\n",
    "                  \" As can be seen, the variable has a lot of data points, about 426 which cannot be captured using a standard plot\",\n",
    "                      \"Using a standard scaled plot does not provide enough details about this distribution. It needs to be plotted on a scale that'll show clearer\",\n",
    "                  \"and more interesting details.\"]\n",
    "                      \n",
    "    print((\" \").join(sol_string))\n",
    "    \n",
    "    binsize = 2\n",
    "    bins = np.arange(1, biketrip['duration'].max()+binsize, binsize)\n",
    "    plt.figure(figsize=[15, 5])\n",
    "    plt.hist(data = biketrip, x = 'duration', bins = bins)\n",
    "    plt.xlabel('Distribution of Duration(min)')\n",
    "    plt.title('Distribution of Duration')\n",
    "    plt.show()\n",
    "    \n",
    "durationstandardscale()"
   ]
  },
  {
   "cell_type": "code",
   "execution_count": 24,
   "metadata": {},
   "outputs": [
    {
     "name": "stdout",
     "output_type": "stream",
     "text": [
      "I've used a histogram to show the distribution of trip duration on a log scale to visualize more and clearer information My plot has a long tail in the distribution and is right skewed and unimodal with highest frequency at 5mins and peak region between 4 and 10mins From the plot, it is clear that the fastest trips were completed between 4 and 10mins\n"
     ]
    },
    {
     "data": {
      "image/png": "[encoded data removed]",
      "text/plain": [
       "<Figure size 1440x576 with 1 Axes>"
      ]
     },
     "metadata": {
      "needs_background": "light"
     },
     "output_type": "display_data"
    }
   ],
   "source": [
    "# there's a long tail in the distribution, so i'll put it on a log scale instead\n",
    "def logduration():\n",
    "    sol_string = [\"I've used a histogram to show the distribution of trip duration on a log scale to visualize more and clearer information\",\n",
    "                      \"My plot has a long tail in the distribution and is right skewed and unimodal with highest frequency at 5mins and peak region between 4 and 10mins\", \n",
    "               \"From the plot, it is clear that the fastest trips were completed between 4 and 10mins\"]\n",
    "                      \n",
    "    print((\" \").join(sol_string))\n",
    "    log_binsize = 0.025\n",
    "    bins = 10 ** np.arange(-1, np.log10(biketrip['duration'].max())+log_binsize, log_binsize)\n",
    "\n",
    "    plt.figure(figsize=[20, 8])\n",
    "    plt.hist(data = biketrip, x = 'duration', bins = bins)\n",
    "    plt.xscale('log')\n",
    "    plt.xticks([1,5,20,100,500,  2e3, 1e4, 5e4], [1,5,20,100, 500, '2k','10k','50k'])\n",
    "    plt.xlabel('Duration(min)')\n",
    "    plt.title('Log scale Distribution of Duration', fontsize=18)\n",
    "    plt.show()\n",
    "    \n",
    "logduration()"
   ]
  },
  {
   "cell_type": "markdown",
   "metadata": {},
   "source": [
    "### Observation\n",
    "I've used a histogram to show the distribution of trip duration on a log scale to visualize more and clearer information. My plot has a long tail in the distribution and is right skewed and unimodal with highest frequency at 5mins and peak region between 4 and 10mins. This implies that the fastest trips were completed between 4 and 10mins with 5mins as its highest frequency."
   ]
  },
  {
   "cell_type": "markdown",
   "metadata": {},
   "source": [
    "Next is the distribution for my first predictor variable, members age:m_age"
   ]
  },
  {
   "cell_type": "code",
   "execution_count": 28,
   "metadata": {},
   "outputs": [
    {
     "name": "stdout",
     "output_type": "stream",
     "text": [
      "I've used a histogram to show the distribution of ages of members. My plot is unimodal and right skewed and it shows the most members between the ages of 29 and 45, The most members are 34 years of age. I'll plot this on a log scale for more details\n"
     ]
    },
    {
     "data": {
      "image/png": "[encoded data removed]",
      "text/plain": [
       "<Figure size 720x432 with 1 Axes>"
      ]
     },
     "metadata": {
      "needs_background": "light"
     },
     "output_type": "display_data"
    }
   ],
   "source": [
    "# using a standard-scaled plot\n",
    "def memberage():\n",
    "    sol_string = [\"I've used a histogram to show the distribution of ages of members.\",\n",
    "                      \"My plot is unimodal and right skewed and it shows the most members between the \" \n",
    "                  \"ages of 29 and 45, The most members are 34 years of age. I'll plot this on a log scale for more details\"]\n",
    "                      \n",
    "    print((\" \").join(sol_string))\n",
    "    \n",
    "    binsize = 3\n",
    "    bins = np.arange(0, biketrip['m_age'].max()+binsize, binsize)\n",
    "    plt.figure(figsize=[10, 6])\n",
    "    plt.hist(data = biketrip, x = 'm_age', bins = bins)\n",
    "    plt.xlabel('Members Age')\n",
    "    plt.title('Members Age distribution')\n",
    "    plt.show()\n",
    "memberage()\n",
    "    "
   ]
  },
  {
   "cell_type": "code",
   "execution_count": 29,
   "metadata": {},
   "outputs": [
    {
     "name": "stdout",
     "output_type": "stream",
     "text": [
      "On a log scale, my plot is still unimodal and right skewed with peak at 34 years of age\n"
     ]
    },
    {
     "data": {
      "image/png": "[encoded data removed]",
      "text/plain": [
       "<Figure size 1440x576 with 1 Axes>"
      ]
     },
     "metadata": {
      "needs_background": "light"
     },
     "output_type": "display_data"
    }
   ],
   "source": [
    "# there's a long tail in the distribution, so i'll put it on a log scale instead\n",
    "def memberage():\n",
    "    sol_string = [\"On a log scale, my plot is still unimodal and right skewed with peak at 34 years of age\"]\n",
    "    print((\" \").join(sol_string))\n",
    "    log_binsize = 0.025\n",
    "    bins = 10 ** np.arange(-1, np.log10(biketrip['m_age'].max())+log_binsize, log_binsize)\n",
    "\n",
    "    plt.figure(figsize=[20, 8])\n",
    "    plt.hist(data = biketrip, x = 'm_age', bins = bins)\n",
    "    plt.xscale('log')\n",
    "    plt.xticks([1,5,20,100,500,  2e3, 1e4, 5e4], [1,5,20,100, 500, '2k',  '10k', '50k'])\n",
    "    plt.xlabel('Member Age')\n",
    "    plt.title('Members Age distribution', fontsize=18)\n",
    "    \n",
    "    plt.show()\n",
    "    \n",
    "memberage()"
   ]
  },
  {
   "cell_type": "markdown",
   "metadata": {},
   "source": [
    "### Observation\n",
    ">** Member Age comment: My histogram shows that the most members are between the ages of 29-45, with 10,214 members at age 34"
   ]
  },
  {
   "cell_type": "markdown",
   "metadata": {},
   "source": [
    "Next up is the distribution of my second predictor variable: user_type"
   ]
  },
  {
   "cell_type": "code",
   "execution_count": 30,
   "metadata": {},
   "outputs": [
    {
     "name": "stdout",
     "output_type": "stream",
     "text": [
      "I've used matplotlib to plot a pie chart to depict the relative frequency between the 2 user types. My pie chart shows that Subsribers make the greater percentage of riders\n"
     ]
    },
    {
     "data": {
      "image/png": "[encoded data removed]",
      "text/plain": [
       "<Figure size 576x360 with 1 Axes>"
      ]
     },
     "metadata": {},
     "output_type": "display_data"
    }
   ],
   "source": [
    "def usertype():\n",
    "    sol_string = [\"I've used matplotlib to plot a pie chart to depict the relative frequency between the 2 user types.\",\n",
    "                      \"My pie chart shows that Subsribers make the greater percentage of riders\"]\n",
    "                      \n",
    "    print((\" \").join(sol_string))\n",
    "    plt.figure(figsize=[8,5])\n",
    "    sorted_counts = biketrip['user_type'].value_counts()\n",
    "    plt.pie(sorted_counts, labels = sorted_counts.index, startangle = 90, autopct='%1.1f%%', counterclock = False);\n",
    "    plt.axis('square')\n",
    "    plt.title('Pie Chart representing the distribution of user types ')\n",
    "usertype()"
   ]
  },
  {
   "cell_type": "markdown",
   "metadata": {},
   "source": [
    "### Observation\n",
    ">**User type comment: The pie chart clearly shows a huge gap between the number of subscribers(registered members) taking trips and the number of customers, implying that about 89.2% (158,386) members are subscibers as compared to 10.8%(16,566) who are customers. This implies that subscribers to Ford Go bike membership are more likely to take more bike trips"
   ]
  },
  {
   "cell_type": "markdown",
   "metadata": {},
   "source": [
    "Next up is the distribution of my third predictor variable, members gender: m_gender"
   ]
  },
  {
   "cell_type": "code",
   "execution_count": 32,
   "metadata": {},
   "outputs": [
    {
     "name": "stdout",
     "output_type": "stream",
     "text": [
      "I've used matplotlib's donot plot to depict the relative frequency of the gender of the members. My donot shows that Male members are the majority\n"
     ]
    },
    {
     "data": {
      "image/png": "[encoded data removed]",
      "text/plain": [
       "<Figure size 576x360 with 1 Axes>"
      ]
     },
     "metadata": {},
     "output_type": "display_data"
    }
   ],
   "source": [
    "# plotting m_gender using a donot plot\n",
    "def membergender():\n",
    "    sol_string = [\"I've used matplotlib's donot plot to depict the relative frequency of the gender of the members.\",\n",
    "                      \"My donot shows that Male members are the majority\"]\n",
    "                      \n",
    "    print((\" \").join(sol_string))\n",
    "    plt.figure(figsize = [8,5]) \n",
    "    sorted_counts = biketrip['m_gender'].value_counts()\n",
    "    plt.pie(sorted_counts, labels = sorted_counts.index, startangle = 90,autopct='%1.1f%%',counterclock = False, wedgeprops = {'width' : 0.4});\n",
    "    plt.axis('square');\n",
    "    plt.title('Donot plot representing the distribution of gender of members ')\n",
    "membergender()"
   ]
  },
  {
   "cell_type": "markdown",
   "metadata": {},
   "source": [
    "### Observation\n",
    ">** Member gender comment: The donot plot clearly shows that there are more Male members than female or any other gender. Specifically, i have shown that about 74.6%(13,0500) of the members are males, 23.3%(40,805) are Females, while 2.1% (3647) represent other gender."
   ]
  },
  {
   "cell_type": "markdown",
   "metadata": {},
   "source": [
    "Next up is the distribution of the 4th predictor variable, the start & end time/hour of the day :start_hr, end_hr. I will be plotting them together since they have similar properties"
   ]
  },
  {
   "cell_type": "code",
   "execution_count": 33,
   "metadata": {},
   "outputs": [
    {
     "name": "stdout",
     "output_type": "stream",
     "text": [
      "I've used matplotlib hist function to ascertain the hour of the day that had the most trips happened My plot looks almost symmetric and is also bimodal Its highest peak is at the 17th hour and the 8th hour \n"
     ]
    },
    {
     "data": {
      "image/png": "[encoded data removed]",
      "text/plain": [
       "<Figure size 576x576 with 2 Axes>"
      ]
     },
     "metadata": {
      "needs_background": "light"
     },
     "output_type": "display_data"
    }
   ],
   "source": [
    "# using a standard-scaled plot\n",
    "def triphour():\n",
    "    sol_string = [\"I've used matplotlib hist function to ascertain the hour of the day that had the most trips happened\",\n",
    "                          \"My plot looks almost symmetric and is also bimodal\",\n",
    "                          \"Its highest peak is at the 17th hour and the 8th hour \"]\n",
    "    print((\" \").join(sol_string))\n",
    "    fig, ax=plt.subplots(nrows=2, figsize=[8,8])\n",
    "\n",
    "    variables=['start_hr','end_hr']\n",
    "    for i in range(len(variables)):\n",
    "        var =variables[i]\n",
    "        bins = np.arange(min(biketrip[var]), max(biketrip[var])+0.5, 0.5)\n",
    "        ax[i].hist(data=biketrip, x=var,bins = bins)\n",
    "        ax[i].set_xlabel('{}(hr)'.format(var))\n",
    "\n",
    "\n",
    "    plt.suptitle('Distribution of Start & End hour of the day', fontsize=16)\n",
    "    plt.show()\n",
    "\n",
    "triphour()"
   ]
  },
  {
   "cell_type": "markdown",
   "metadata": {},
   "source": [
    "### Observation\n",
    ">** Start & End hour of the day Distribution comment: The histogram shows that start & end hour of day have exactly the same distribution which is almost symmetric distribution and is also bimodal with one peak at 17th hour and the second peak at the 8th hour of the day. This also implies that the hour for which a trip starts is the same hour for which it ends\n",
    "It is clear that the 17th hour of the day is the hour where the most trips took place with about 21,864 trips, closely followed by the 8th hour at 20,904 trips and the 8th hour at 20,227 trips. \n",
    "> It doesn't really make sense to me that the same hour of the day with the highest frequency for when a trip starts is the same hour of the day with the highest frequency for when trips end. This could imply that trips go on for 24 hours and beyond. \n",
    "> This informs that the distribution of this variable alone is not sufficient to draw any significant conclusions and so i will be exploring this variable one more time in the bivariate section to see if i could make some sense out of this distribution in correlation with other variables \n"
   ]
  },
  {
   "cell_type": "markdown",
   "metadata": {},
   "source": [
    "Next up is the distribution of my 5th predictor variable, the start day of the week and end day of the week. Since they both have the same ordering, i will plot them together : start_weekday, end_weekday"
   ]
  },
  {
   "cell_type": "code",
   "execution_count": 36,
   "metadata": {},
   "outputs": [],
   "source": [
    "# converting start_weekday and end_weeday from a plain object type into an ordered categorical type.\n",
    "\n",
    "weekdays=['Sunday','Monday','Tuesday','Wednesday','Thursday','Friday','Saturday']\n",
    "wday=pd.api.types.CategoricalDtype(ordered=True,categories=weekdays)\n",
    "biketrip['start_weekday']=biketrip['start_weekday'].astype(wday);\n",
    "biketrip['end_weekday']=biketrip['end_weekday'].astype(wday);"
   ]
  },
  {
   "cell_type": "code",
   "execution_count": 38,
   "metadata": {},
   "outputs": [
    {
     "name": "stdout",
     "output_type": "stream",
     "text": [
      "I've used pandas .astype() to convert the start_weekday and end_weekday variables  from a plain object type into an ordered categorical type. My bar chart shows the highest frequency for Thursday and lowest for Saturday\n"
     ]
    },
    {
     "data": {
      "image/png": "[encoded data removed]",
      "text/plain": [
       "<Figure size 576x576 with 2 Axes>"
      ]
     },
     "metadata": {
      "needs_background": "light"
     },
     "output_type": "display_data"
    }
   ],
   "source": [
    "def weekday():\n",
    "    sol_string = [\"I've used pandas .astype() to convert the start_weekday and end_weekday variables \",\n",
    "                  \"from a plain object type into an ordered categorical type. My bar chart shows the highest frequency\", \n",
    "                  \"for Thursday and lowest for Saturday\"]\n",
    "    print((\" \").join(sol_string))\n",
    "    fig, ax=plt.subplots(nrows=2, figsize=[8,8])\n",
    "  \n",
    "    base_color = sb.color_palette()[0]\n",
    "    sb.countplot(data = biketrip, x = 'start_weekday', color = base_color, ax=ax[0])\n",
    "    sb.countplot(data = biketrip, x = 'end_weekday', color = base_color, ax=ax[1])\n",
    "    plt.suptitle('Distribution of Start and end weekday')\n",
    "    plt.show()\n",
    "weekday()"
   ]
  },
  {
   "cell_type": "markdown",
   "metadata": {},
   "source": [
    "### Observation\n",
    "> Start & End weekday comment: The bar chart for the weekday variables the same distribution for start_weekday and end_weekday. Implying that the same weekday a trip starts is the same weekday a trip is likely to end. Thursday is shown with the highest frequency and Saturday with the lowest frequency. Implying that the most trips( 33,712 trips) started and ended on a Thursday followed by Tuesday with 30,584 trips and the least bike trips happened on a Saturday  with 14,414 which almost tied with Sunday. \n",
    "> Again, It doesn't still make sense to me that the same day of the week with the highest frequency for when a trip starts is the day of the week with the highest frequency for when trips end. This could imply that trips go on for 7 days and beyond. \n",
    "> This informs that the distribution of this variable alone is not sufficient to draw any significant conclusions and so i will be exploring this variable one more time in the bivariate section to see if i could make some sense out of this distribution in correlation with other variables \n"
   ]
  },
  {
   "cell_type": "markdown",
   "metadata": {},
   "source": [
    "### Discuss the distribution(s) of your variable(s) of interest. Were there any unusual points? Did you need to perform any transformations?\n",
    "\n",
    ">The duration variable took on a large range of values, so I looked at the data using a log transform. With the log scaled transformation, the data is right skewed and unimodal, with highest frequency at 5mins.\n",
    "\n",
    "\n",
    "### Of the features you investigated, were there any unusual distributions? Did you perform any operations on the data to tidy, adjust, or change the form of the data? If so, why did you do this?\n",
    "\n",
    "> In the process of investigating the m_gender, m_age, start_hr, start_weekday and user_type variables, i encountered some unusual distributions with start and end hour of the day and start and end day of the week. The distribution of these variables alone are independently not sufficient to draw any significant conclusions and so i will be exploring these variable one more time in the bivariate section to see if i could make some sense out of this distribution in correlation with other variables.\n",
    "> I performed a log scale transformation on m_age to capture more details. I also performed a dynamic ordering of bars for the start_weekday variable to enhance interpretability and better visuals.\n",
    "> members age is right skewed and unimodal\n",
    "> The slices of the m_gender and user_type variables are easy to differentiate using the donot and pie plot respectively\n",
    "> start hour of the day is almost symmetric and bimodal.\n"
   ]
  },
  {
   "cell_type": "markdown",
   "metadata": {},
   "source": [
    "## Bivariate Exploration\n",
    "\n",
    "> I'll proceed with this by exploring the pairwise correlations present between features already investigated during my univariate exploration"
   ]
  },
  {
   "cell_type": "code",
   "execution_count": null,
   "metadata": {},
   "outputs": [],
   "source": [
    "numeric_vars=['duration','m_age','start_hr','end_hr']\n",
    "categoric_vars=['m_gender','user_type','start_weekday','end_weekday']"
   ]
  },
  {
   "cell_type": "code",
   "execution_count": null,
   "metadata": {},
   "outputs": [],
   "source": [
    "# correlation plot of numeric variables\n",
    "sol_string = [\"As part of my exploration, i have created a correlation matrix using a heat map so i can easily\",                \n",
    "                              \"visualize the strength of my relationships.This heatmap shows the relationship between my numeric variables\"]\n",
    "print((\" \").join(sol_string))\n",
    "plt.figure(figsize = [8, 5])\n",
    "sb.heatmap(biketrip[numeric_vars].corr(), annot = True, fmt = '.3f',\n",
    "           cmap = 'vlag_r', center = 0)\n",
    "plt.suptitle('Heatmap showing correlation coefficients of numeric variables')\n",
    "plt.show()"
   ]
  },
  {
   "cell_type": "code",
   "execution_count": null,
   "metadata": {},
   "outputs": [],
   "source": [
    "# plot matrix of numeric variables: sample 2000 entries to make it render faster and clearer\n",
    "sol_string = [\"Plot matrix of numeric variables with histograms on the diagonals and scatter plot off the diagonals.\",\n",
    "             \"I sampled 2000 entries to make it render clearer and faster\"]                \n",
    "print((\" \").join(sol_string))\n",
    "samples = np.random.choice(biketrip.shape[0], 2000, replace = False)\n",
    "biketrip_s = biketrip.iloc[samples,:]\n",
    "\n",
    "g = sb.PairGrid(data = biketrip_s, vars = ['duration','m_age','start_hr','end_hr'])\n",
    "g.map_diag(plt.hist)\n",
    "g.map_offdiag(plt.scatter);\n",
    "\n",
    "plt.suptitle('Plot matrix of numeric variables(2000 samples)', fontsize=18);"
   ]
  },
  {
   "cell_type": "markdown",
   "metadata": {},
   "source": [
    "#### Observation:\n",
    "> From the correlation coefficients and the plot matrix i observed the following-\n",
    "> As expected, the start_hr and end_hr variables are highly correlated with each other since they have the same data. However, the start and end hour seem like they have correlation with the duration variable indicated by their almost linear plot and correlation coefficient. They do not seem to have a significant correlation with age variable.\n",
    "> There is also an almost linear relationship between the duration and the age variables indicating that there is a strong correlation between them.\n",
    ">These interactions are worth exploring further using the full dataset"
   ]
  },
  {
   "cell_type": "code",
   "execution_count": 39,
   "metadata": {},
   "outputs": [
    {
     "data": {
      "text/plain": [
       "<Figure size 1080x576 with 0 Axes>"
      ]
     },
     "metadata": {},
     "output_type": "display_data"
    },
    {
     "data": {
      "image/png": "[encoded data removed]",
      "text/plain": [
       "<Figure size 1296x864 with 16 Axes>"
      ]
     },
     "metadata": {
      "needs_background": "light"
     },
     "output_type": "display_data"
    }
   ],
   "source": [
    "# plot matrix of numeric features against categorical features.\n",
    "\n",
    "samples = np.random.choice(biketrip.shape[0], 2000, replace = False)\n",
    "biketrip_s = biketrip.iloc[samples,:]\n",
    "\n",
    "def boxgrid(x,y, **kwargs):\n",
    "   \n",
    "    default_color = sb.color_palette()[0]\n",
    "    sb.boxplot(x,y, color=default_color)\n",
    "plt.figure(figsize = [15, 8])\n",
    "g = sb.PairGrid(data = biketrip_s, y_vars = ['duration','m_age','start_hr','end_hr'], \n",
    "                x_vars = ['m_gender','user_type','start_weekday','end_weekday'], height = 3, aspect = 1.5)\n",
    "g.map(boxgrid)\n",
    "plt.suptitle('Plot matrix of numeric variables with categoric variables(2000 samples)', fontsize= 20);\n",
    "plt.show()"
   ]
  },
  {
   "cell_type": "markdown",
   "metadata": {},
   "source": [
    "> Observation: As seen from my plot matrix, there is a strong relationship between age and duration numeric variables and some of the categoric variables like user type and gender. This can be seen as the categorical features with the most trips like Male gender, Subscriber usertype have the least duration and fall into the age group with the highest frequency. However, It is worthy of note that the numeric variables start hour of the day and end hour of the day do not have a significant correlation with the categoric variables.\n",
    ">These interactions are worth exploring further using the full dataset\n"
   ]
  },
  {
   "cell_type": "markdown",
   "metadata": {},
   "source": [
    "Next i'll explore the relationship between the categorical variables using a clustered bar chart"
   ]
  },
  {
   "cell_type": "code",
   "execution_count": 40,
   "metadata": {},
   "outputs": [
    {
     "data": {
      "image/png": "[encoded data removed]",
      "text/plain": [
       "<Figure size 576x576 with 3 Axes>"
      ]
     },
     "metadata": {
      "needs_background": "light"
     },
     "output_type": "display_data"
    }
   ],
   "source": [
    "plt.figure(figsize = [8, 8])\n",
    "\n",
    "# subplot 1: gender vs user type\n",
    "plt.subplot(3, 1, 1)\n",
    "sb.countplot(data = biketrip, x = 'm_gender', hue = 'user_type', palette = 'Blues')\n",
    "plt.legend(bbox_to_anchor=(1,1.0))\n",
    "\n",
    "# subplot 2: usertype vs start weekday\n",
    "ax = plt.subplot(3, 1, 2)\n",
    "sb.countplot(data = biketrip, x = 'user_type', hue = 'start_weekday', palette = 'Blues')\n",
    "ax.legend(bbox_to_anchor=(1,1.0))\n",
    "\n",
    "# subplot 3: gender vs start weekday\n",
    "ax = plt.subplot(3, 1, 3)\n",
    "sb.countplot(data = biketrip, x = 'm_gender', hue = 'start_weekday', palette = 'Greens')\n",
    "ax.legend(bbox_to_anchor=(1,1.0))\n",
    "\n",
    "plt.suptitle('Plot matrix of Categoric variables interactions', fontsize=18)\n",
    "plt.tight_layout()\n",
    "plt.show()"
   ]
  },
  {
   "cell_type": "markdown",
   "metadata": {},
   "source": [
    ">There seems to be very good interaction between the gender and the user type. However, there doesn't seem to be any significant relationship between user type and start weekday and gender and start weekday as their plots do not show consistent results as the day with the highest frequency in previous plots was seen to be Thursday but indicates Friday for this relationship.\n",
    "\n",
    ">**This brings me to the end of my preliminary exploration of bivariate relationships. I will now delve deeper to exploring some of these relationships.**"
   ]
  },
  {
   "cell_type": "markdown",
   "metadata": {},
   "source": [
    "### Question 1: Is member age associated with duration of trip?\n",
    "I'll explore this using m_age and duration variables"
   ]
  },
  {
   "cell_type": "code",
   "execution_count": 46,
   "metadata": {},
   "outputs": [
    {
     "name": "stdout",
     "output_type": "stream",
     "text": [
      "The interaction between age and duration has a lot of overlapping points which makes it difficult to see the actual relationship between the plotted variables. The points with the darker shades indicate more data points and of course higher counts. I have employed transparency  and jitter to make my plot more informative and make the strength of this relationship more clear.\n"
     ]
    },
    {
     "data": {
      "image/png": "[encoded data removed]",
      "text/plain": [
       "<Figure size 576x432 with 1 Axes>"
      ]
     },
     "metadata": {
      "needs_background": "light"
     },
     "output_type": "display_data"
    }
   ],
   "source": [
    "def agevsduration():\n",
    "    \n",
    "    sol_string = [\"The interaction between age and duration has a lot of overlapping points which makes it difficult to\",\n",
    "                  \"see the actual relationship between the plotted variables. The points with the darker shades indicate\", \n",
    "                  \"more data points and of course higher counts. I have employed transparency \",\n",
    "                  \"and jitter to make my plot more informative and make the strength of this relationship more clear.\"]                      \n",
    "    print((\" \").join(sol_string))\n",
    "    plt.figure(figsize = [8, 6])\n",
    "\n",
    "    plt.yticks([1,5,20,100,500,  2e3, 1e4, 5e4], [1,5,20,100, 500, '2k','10k','50k'])\n",
    "    sb.regplot(data = biketrip, x = 'm_age', y = 'duration', x_jitter=0.04, scatter_kws={'alpha':1/20}, fit_reg=False)\n",
    "    plt.yscale('log')\n",
    "    plt.xlabel('Member age')\n",
    "    plt.ylabel('Duration(min)');\n",
    "    plt.title('Scatter plot of duration vs member age with log transform on duration axis', fontsize=16)\n",
    "    plt.show()\n",
    "agevsduration()\n"
   ]
  },
  {
   "cell_type": "markdown",
   "metadata": {},
   "source": [
    "The interaction between age and duration has a lot of overlapping points which makes it difficult to see the actual relationship between the plotted variables. The points with the darker shades indicate more data points and of course higher counts. I have employed transparency and jitter to make my plot more informative and make the strength of this relationship more clear"
   ]
  },
  {
   "cell_type": "code",
   "execution_count": null,
   "metadata": {},
   "outputs": [],
   "source": [
    "To zoom in more into this interaction and visualize a clearer perspective, i will make use of a heatmap"
   ]
  },
  {
   "cell_type": "code",
   "execution_count": 47,
   "metadata": {},
   "outputs": [
    {
     "name": "stdout",
     "output_type": "stream",
     "text": [
      "My heatmap gives a more informative perspective. The cells with the yellow and bright color have higher counts while the cells with the darker and purple color have lower counts\n"
     ]
    },
    {
     "data": {
      "image/png": "[encoded data removed]",
      "text/plain": [
       "<Figure size 576x432 with 2 Axes>"
      ]
     },
     "metadata": {
      "needs_background": "light"
     },
     "output_type": "display_data"
    }
   ],
   "source": [
    "# Since the points are enormous,and both variables are discrete, i will plot using a heatmap \n",
    "def agevsduration():\n",
    "    \n",
    "    sol_string = [\"My heatmap gives a more informative perspective. The cells with the yellow and bright color have higher\",\n",
    "                  \"counts while the cells with the darker and purple color have lower counts\"]                      \n",
    "    print((\" \").join(sol_string))\n",
    "    plt.figure(figsize = [8, 6])\n",
    "\n",
    "    plt.hist2d(data = biketrip, x = 'm_age', y = 'duration')\n",
    "    plt.colorbar()\n",
    "    plt.xlabel('Member age')\n",
    "    plt.ylabel('Duration(min)');\n",
    "    plt.title('Heatmap plot of duration vs member age with log transform on duration axis', fontsize=16)\n",
    "    plt.show()\n",
    "agevsduration()"
   ]
  },
  {
   "cell_type": "markdown",
   "metadata": {},
   "source": [
    "#### Observation\n",
    "> My heatmap gives a more informative perspective. The cells with the yellow and bright color have higher counts while the cells with the darker and purple color have lower counts. It is clear from both plots that members between the ages of 20 & 40 are more likely to complete trips in shorter times"
   ]
  },
  {
   "cell_type": "markdown",
   "metadata": {},
   "source": [
    "### Question 2: Is member gender associated with duration of trip?\n",
    "I'll explore this using m_gender and duration variables"
   ]
  },
  {
   "cell_type": "code",
   "execution_count": null,
   "metadata": {},
   "outputs": [],
   "source": [
    "def gendervsduration():\n",
    "    \n",
    "    sol_string = [\"I chose a boxplot for this visualization so i can have a cleaner summary statistics and focus on the details.\",\n",
    "                  \"It is clear from the plot that the Male gender corresponds with the duration with the most frequency\",\n",
    "                  \" at 5mins represented by the first quartile(Q1). This implies thatthe Male gender are more likely\",\n",
    "                  \" to complete their trip in a shorter time\"]\n",
    "                      \n",
    "    print((\" \").join(sol_string))\n",
    "    plt.figure(figsize = [8, 6])\n",
    "    base_color = sb.color_palette()[0]\n",
    "    sb.boxplot(data = biketrip, x = 'm_gender', y = 'duration', color = base_color)\n",
    "    plt.yscale('log')\n",
    "    plt.yticks([1,5,20,100,500,  2e3, 1e4, 5e4], [1,5,20,100, 500, '2k',  '10k', '50k'])\n",
    "    plt.ylabel('Duration (min)')\n",
    "    plt.title('Violin plot of duration vs member gender with log transform on duration axis', fontsize=16)\n",
    "    plt.show()\n",
    "gendervsduration()"
   ]
  },
  {
   "cell_type": "markdown",
   "metadata": {},
   "source": [
    "#### Observation: \n",
    "> I chose a boxplot for this visualization so i can have a cleaner summary statistics and focus on the details. It is clear from the plot that the Male gender correlates with the duration with the most frequency at 5mins represented by the first quartile(Q1). This implies thatthe Male gender are more likely to complete their trip in a shorter time. "
   ]
  },
  {
   "cell_type": "markdown",
   "metadata": {},
   "source": [
    "### Question 3: Is Start hour of trip associated with duration of trip?\n",
    "I'll explore this using start_hr and duration variables"
   ]
  },
  {
   "cell_type": "code",
   "execution_count": null,
   "metadata": {},
   "outputs": [],
   "source": [
    "# using matplotlib scatter function \n",
    "def starthourvsduration():\n",
    "    \n",
    "    sol_string = [\"My Scatter plot doesn't show any significant correlation between start hour and duration of trip\"]\n",
    "                                     \n",
    "    print((\" \").join(sol_string))\n",
    "    plt.figure(figsize = [8, 6])\n",
    "\n",
    "    plt.scatter(data = biketrip, x = 'start_hr', y = 'duration', alpha = 1/10)\n",
    "\n",
    "    plt.xlabel('Start hour of the day')\n",
    "    plt.yscale('log')\n",
    "    plt.yticks([1,5,20,100,500,  2e3, 1e4, 5e4], [1,5,20,100, 500, '2k',  '10k', '50k'])\n",
    "    plt.ylabel('Duration (min)')\n",
    "    plt.title('Scatter plot of duration vs Start hour with log transform on duration axis', fontsize=16)\n",
    "    plt.show()\n",
    "starthourvsduration()"
   ]
  },
  {
   "cell_type": "markdown",
   "metadata": {},
   "source": [
    "#### Observation\n",
    "> From the scatter plot, there doesn't seem to be any significant correlation between start hour of the day and duration of trip. We will not be exploring the variable start_hr any further for this project"
   ]
  },
  {
   "cell_type": "markdown",
   "metadata": {},
   "source": [
    "### Question 4: Does Usertype influence the duration of trip?\n",
    "I'll explore this using user type and duration variables"
   ]
  },
  {
   "cell_type": "code",
   "execution_count": null,
   "metadata": {},
   "outputs": [],
   "source": [
    "def usertypevsduration():\n",
    "    \n",
    "    sol_string = [\"My boxplot is plotted with a log transform on duration axiss.\"\n",
    "                  \" It clearly shows a strong correlation between user type and trip duration\"]\n",
    "                                     \n",
    "    print((\" \").join(sol_string))\n",
    "    plt.figure(figsize = [8, 6])\n",
    "    base_color = sb.color_palette()[0]\n",
    "    sb.boxplot(data = biketrip, x = 'user_type', y = 'duration', color = base_color)\n",
    "    plt.yscale('log')\n",
    "    plt.yticks([1,5,20,100,500,  2e3, 1e4, 5e4], [1,5,20,100, 500, '2k',  '10k', '50k'])\n",
    "    plt.ylabel('Duration (min)')\n",
    "    plt.title('Violin plot of duration vs User type with log transform on duration axis', fontsize=16)\n",
    "    plt.show()\n",
    "usertypevsduration()"
   ]
  },
  {
   "cell_type": "markdown",
   "metadata": {},
   "source": [
    "#### Observation\n",
    "> My boxplot is plotted with a log transform on duration axis. It clearly shows a strong correlation between user type and trip duration. Subscribers complete trips in the fastest time"
   ]
  },
  {
   "cell_type": "markdown",
   "metadata": {},
   "source": [
    "#### Question 5: Is Start day of the week associated with the duration of trip?\n",
    "I'll explore this using start_weekday and duration variables"
   ]
  },
  {
   "cell_type": "code",
   "execution_count": 41,
   "metadata": {},
   "outputs": [
    {
     "name": "stdout",
     "output_type": "stream",
     "text": [
      "My violinplot is plotted with a log transform on duration axiss.There doesn't seem to be any significant correlation between start weekday and duration\n"
     ]
    },
    {
     "data": {
      "image/png": "[encoded data removed]",
      "text/plain": [
       "<Figure size 576x432 with 1 Axes>"
      ]
     },
     "metadata": {
      "needs_background": "light"
     },
     "output_type": "display_data"
    }
   ],
   "source": [
    "def startweekdayvsduration():\n",
    "    \n",
    "    sol_string = [\"My violinplot is plotted with a log transform on duration axiss.\"\n",
    "                  \"There doesn't seem to be any significant correlation between start weekday and duration\"]\n",
    "                                     \n",
    "    print((\" \").join(sol_string))\n",
    "    plt.figure(figsize = [8, 6])\n",
    "    base_color = sb.color_palette()[0]\n",
    "    sb.violinplot(data = biketrip, x = 'start_weekday', y = 'duration', color = base_color)\n",
    "    plt.yscale('log')\n",
    "    plt.yticks([1,5,20,100,500,  2e3, 1e4, 5e4], [1,5,20,100, 500, '2k',  '10k', '50k'])\n",
    "    plt.ylabel('Duration (min)')\n",
    "    plt.title('Violin plot of duration vs start weekday with log transform on duration axis', fontsize=16)\n",
    "    plt.show()\n",
    "    \n",
    "startweekdayvsduration()"
   ]
  },
  {
   "cell_type": "markdown",
   "metadata": {},
   "source": [
    "#### Observation\n",
    "> My violinplot is plotted with a log transform on duration axis. There doesn't seem to be any significant correlation between start weekday and duration. We will not be exploring the start weekday variable any further in this project."
   ]
  },
  {
   "cell_type": "markdown",
   "metadata": {},
   "source": [
    "### Talk about some of the relationships you observed in this part of the investigation. How did the feature(s) of interest vary with other features in the dataset?\n",
    "\n",
    "> My exploration so far indicates that Duration has a good correlation with member age,usertype and member gender in order of decreasing correlation.\n",
    "> There doesn't seem to be any significant correlation between duration and the start and end hour and also the start and end day of the week. So i won't be exploring them any further. \n",
    "> On plotting duration against age on a log scale, the scatter plot and heatmaps both depicted an almost linear relationship between these two variables.It makes sense that younger members between ages 20 and 45 take shorter times to complete trips. \n",
    "> It also makes sense that Subscribers to the Ford Go Bike system would take a shorter time to complete trips and also that the Male gender are more likely to complete trips faster.\n",
    "\n",
    "\n",
    "### Did you observe any interesting relationships between the other features (not the main feature(s) of interest)?\n",
    "> Numeric variables relationship: As expected, the start_hr and end_hr numeric variables are highly correlated with each other since they have the same data. However, they are not correlated with other numeric variables. \n",
    "> Numeric vs Categric variables relationship: It is worthy of note that the numeric variables start hour of the day and end hour of the day do not have a significant correlation with the categoric variables\n",
    "> Categoric variables relationship: There seems to be very good interaction between the gender and the user type. However, there doesn't seem to be any significant relationship between user type and start weekday and gender and start weekday as their plots do not show consistent results \n"
   ]
  },
  {
   "cell_type": "markdown",
   "metadata": {},
   "source": [
    "## Multivariate Exploration\n",
    "\n",
    "> In this section, i will be exploring the relationship between 3 of my variables that have shown the strongest correlation. I will be exploring how the combination of 2 of my predictor variables influence my dependent variable(variable of interest-duration). Two groups of relationship will be explored here-\n",
    "- duration vs age vs usertype\n",
    "- duration vs age vs gender"
   ]
  },
  {
   "cell_type": "markdown",
   "metadata": {},
   "source": [
    "### Question 6: Does it take a subscriber who is between the ages of 20 and 45 a shorter time to complete trips?"
   ]
  },
  {
   "cell_type": "code",
   "execution_count": null,
   "metadata": {},
   "outputs": [],
   "source": [
    "biketrip.value_counts(['duration','m_age','user_type'])"
   ]
  },
  {
   "cell_type": "code",
   "execution_count": null,
   "metadata": {},
   "outputs": [],
   "source": [
    "def durationvsagevsusertype():\n",
    "    sol_string = [\"I used a non positional encoding 'color' to represent my 3rd variable- usertype. From my plot it is\", \n",
    "                  \"clear that the data points for the subscriber user which is encoded using a thicker shade of blue is \",\n",
    "                  \"consistently lined around the shortest duration which is btw 5-10 mins\"]\n",
    "                                     \n",
    "    print((\" \").join(sol_string))\n",
    "    fig = plt.figure(figsize = [15,8])\n",
    "    ax = sb.pointplot(data = biketrip, x = 'm_age', y = 'duration', hue = 'user_type',\n",
    "               palette = 'Blues', linestyles = '', dodge = 0.4)\n",
    "    plt.title('Duration across age and user type', fontsize=18)\n",
    "    plt.ylabel('Duration(min)', fontsize=12)\n",
    "    plt.xlabel('Member age', fontsize=12)\n",
    "    plt.yscale('log')\n",
    "    plt.yticks([1,5,20,100,500,  2e3, 1e4, 5e4], [1,5,20,100, 500, '2k',  '10k', '50k'])\n",
    "    ax.set_yticklabels([],minor = True)\n",
    "    plt.xticks(rotation=15,fontsize=8)\n",
    "    plt.show();\n",
    "    \n",
    "durationvsagevsusertype()"
   ]
  },
  {
   "cell_type": "markdown",
   "metadata": {},
   "source": [
    "### Observation\n",
    ">I used a non positional encoding - color to represent my 3rd variable- usertype. From my plot it is clear that the data points for the subscriber user which is encoded using a thicker shade of blue is consistently lined around the shortest duration which is btw 5-10 mins\n",
    "> From my plot it is clear that the data points for the subscriber user is consistently lined around the shortest duration which is btw 5-10 mins. This implies that subscribers between ages of 20 and 45 had the shortest duration of trip, they completed their trips faster. Thus, age and usertype together are a strong combination to predicting how fast a trip can be completed."
   ]
  },
  {
   "cell_type": "markdown",
   "metadata": {},
   "source": [
    "### Question 7: Can we conclude that Males between the ages of 20 and 45 are more likely to complete trips in shorter time?"
   ]
  },
  {
   "cell_type": "code",
   "execution_count": null,
   "metadata": {},
   "outputs": [],
   "source": [
    "biketrip.value_counts(['duration','m_age','m_gender'])"
   ]
  },
  {
   "cell_type": "code",
   "execution_count": null,
   "metadata": {},
   "outputs": [],
   "source": [
    "def durationvsagevsgender():\n",
    "    sol_string = [\"I used a non positional encoding 'color' to represent my 3rd variable- gender.\", \n",
    "                   \"From my plot it is clear that the data points for the male gender which is encoded\", \n",
    "                   \"using a light shade of blue is consistently lined around the shortest duration which is btw 5-10 mins\"]                 \n",
    "    print((\" \").join(sol_string))\n",
    "    \n",
    "    fig = plt.figure(figsize = [15,8])\n",
    "    ax = sb.pointplot(data = biketrip, x = 'm_age', y = 'duration', hue = 'm_gender',\n",
    "               palette = 'Blues', linestyles = '', dodge = 0.4)\n",
    "    plt.title('Duration across age and gender', fontsize=18)\n",
    "    plt.ylabel('Duration(min)', fontsize=12)\n",
    "    plt.xlabel('Member age', fontsize=12)\n",
    "    plt.yscale('log')\n",
    "    plt.yticks([1,5,20,100,500,2e3,1e4,5e4], [1,5,20,100,500,'2k','10k','50k'])\n",
    "    ax.set_yticklabels([],minor = True)\n",
    "    plt.xticks(rotation=15,fontsize=8)\n",
    "    plt.show();\n",
    "    \n",
    "durationvsagevsgender()"
   ]
  },
  {
   "cell_type": "markdown",
   "metadata": {},
   "source": [
    "## Observation\n",
    "> I used a non positional encoding -color to represent my 3rd variable- gender. \n",
    "> From my plot it is clear that the data points for the male gender which is encoded using a light shade of blue is consistently lined around the shortest duration which is btw 5-10 mins.\n",
    "> So we can conclude that the Males between the ages of 20 and 45 are more likely to complete their trips in the shortest time\n",
    "                                     "
   ]
  },
  {
   "cell_type": "markdown",
   "metadata": {},
   "source": [
    "### Talk about some of the relationships you observed in this part of the investigation. Were there features that strengthened each other in terms of looking at your feature(s) of interest?\n",
    "\n",
    "The bivariate relationships- duration vs age and duration vs usertype were strengthened by the trio combination as seen in my multivariate plot. The combination of age and usertype are great for predicting how fast or slow a trip can be completed in.\n",
    "In the same vein, the bivariate relationships- duration vs gender was strengthened by the addition of age to the combination as seen in my multivariate plot. The combination of age and gender are also great for predicting how fast or slow a trip can be completed in.\n",
    "\n",
    "### Were there any interesting or surprising interactions between features?\n",
    "\n",
    "One Interaction i found interesting is the interactions between the  age, usertype and the duration of trip features. **Subscribers between ages of 20 and 45 have the shortest duration of trip, they complete their trips faster. Thus, age and usertype together are a strong combination to predicting how fast a trip can be completed.**"
   ]
  },
  {
   "cell_type": "markdown",
   "metadata": {},
   "source": [
    "## Conclusions\n",
    "\n",
    "The Ford GoBike dataset used in this project originally contained about 184,000 individual bike ride entries with 16 features. After some preliminary wrangling was carried out on it to prepare the data for visualization, 174,952 entries with 15 features were used for the visualization. The focus of this project was to determine the factors that influence the duration of a trip which i chosed as my dependent variable. 5 independent/predictor variables(member age, member gender, usertype, start hour and start weekday) were chosen to answer this question and they were analyzed as univariate, bivariate and multivariate interactions.\n",
    "\n",
    "The following questions were asked in the course of the project analysis\n",
    "\n",
    "- Is member age associated with duration of trip?\n",
    "- Is member gender associated with duration of trip?\n",
    "- Is Start hour of trip associated with duration of trip?\n",
    "- Does Usertype influence the duration of trip?\n",
    "- Is Start day of the week associated with the duration of trip?\n",
    "- Does it take a subscriber who is between the ages of 20 and 45 a shorter time to complete trips?\n",
    "- Can we conclude that Males between the ages of 20 and 45 are more likely to complete trips in shorter time?\n",
    "\n",
    "The following answers were given to the questions respectively-\n",
    "\n",
    "- Yes, Age of members is associated with duration of trip. Specifically, 903 members of age 34 completed trips in 6mins\n",
    "- Yes, the gender is associated with the duration of trip, The male gender are more likely to complete trips faster. 11,574 Males completed trips in 5 mins\n",
    "- No, There is no significant association between start hour of the day and duration of a trip\n",
    "- Yes, Usertype influences the duration of a trip. Subsribers are more likely to complete trips faster. 14,274 suscribers completed trips in 5 mins\n",
    "- No, There is no significant association between start day of week and duration of a trip\n",
    "- Subscribers between ages of 20 and 45 had the shortest duration of trip, they completed their trips faster. 859 subscribers at 34 years completed trips in 6 mins\n",
    "- We can conclude that the Males between the ages of 20 and 45 are more likely to complete their trips in the shortest time. Specifically, 668 Male members at 29 years completed trips in 5 mins\n",
    "\n",
    "\n",
    "Generally, we can answer the goal question which was to ascertain what factors determine the duration of a trip.\n",
    "The factors include the following-\n",
    "- Age of member\n",
    "- User type of member\n",
    "- Gender of member\n",
    "\n",
    "***The End!\n",
    "\n"
   ]
  }
 ],
 "metadata": {
  "kernelspec": {
   "display_name": "Python 3 (ipykernel)",
   "language": "python",
   "name": "python3"
  },
  "language_info": {
   "codemirror_mode": {
    "name": "ipython",
    "version": 3
   },
   "file_extension": ".py",
   "mimetype": "text/x-python",
   "name": "python",
   "nbconvert_exporter": "python",
   "pygments_lexer": "ipython3",
   "version": "3.9.12"
  }
 },
 "nbformat": 4,
 "nbformat_minor": 2
}
